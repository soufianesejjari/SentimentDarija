{
 "cells": [
  {
   "cell_type": "code",
   "execution_count": 22,
   "id": "49e3d8f2",
   "metadata": {},
   "outputs": [],
   "source": [
    "import pandas as pd \n",
    "import seaborn as sns\n",
    "import matplotlib.pyplot as plt"
   ]
  },
  {
   "cell_type": "markdown",
   "id": "682e05e4",
   "metadata": {},
   "source": [
    "# Exploration des Données \n",
    "\n",
    "### df1 - Commentaires Facebook\n",
    "- Source : Commentaires d'une source spécifique sur Facebook.\n",
    "- Format : Texte brut de commentaires.\n",
    "\n",
    "### df2 - Tweets Marocains\n",
    "- Source : Tweets liés à des hashtags au Maroc.\n",
    "- Format : Texte brut de tweets.\n",
    "\n",
    "### df3 - Commentaires sur les Actualités\n",
    "- Source : Commentaires sur les actualités marocaines provenant de sites comme hespress.ma sur Facebook.\n",
    "- Format : Texte brut de commentaires.\n",
    "### df4 - Commentaires sur YouTube\n",
    "- Source : Commentaires marocains sur des vidéos sur YouTube.\n",
    "- Format : Texte brut de commentaires.\n"
   ]
  },
  {
   "cell_type": "code",
   "execution_count": 121,
   "id": "47ecacaa",
   "metadata": {},
   "outputs": [],
   "source": [
    "# datasets des categories \n",
    "df=pd.read_csv('MTCD.csv')\n",
    "# data collectes des socials medias \n",
    "df1 = pd.read_csv('Dataset/data1.csv')\n",
    "df2 = pd.read_csv('Dataset/data2.txt', sep='\\t', header=None, names=['text', 'label'])\n",
    "df3 = pd.read_csv('Dataset/data3.csv')\n",
    "df4 = pd.read_csv('Dataset/data4.csv')\n",
    "\n"
   ]
  },
  {
   "cell_type": "code",
   "execution_count": 3,
   "id": "bad73099",
   "metadata": {},
   "outputs": [
    {
     "data": {
      "text/html": [
       "<div>\n",
       "<style scoped>\n",
       "    .dataframe tbody tr th:only-of-type {\n",
       "        vertical-align: middle;\n",
       "    }\n",
       "\n",
       "    .dataframe tbody tr th {\n",
       "        vertical-align: top;\n",
       "    }\n",
       "\n",
       "    .dataframe thead th {\n",
       "        text-align: right;\n",
       "    }\n",
       "</style>\n",
       "<table border=\"1\" class=\"dataframe\">\n",
       "  <thead>\n",
       "    <tr style=\"text-align: right;\">\n",
       "      <th></th>\n",
       "      <th>text</th>\n",
       "      <th>labels</th>\n",
       "    </tr>\n",
       "  </thead>\n",
       "  <tbody>\n",
       "    <tr>\n",
       "      <th>0</th>\n",
       "      <td>خويا نصيحة مني. كمل فخدمتك ومتديهاش فكلام ناس ...</td>\n",
       "      <td>News</td>\n",
       "    </tr>\n",
       "    <tr>\n",
       "      <th>1</th>\n",
       "      <td>ضربناكم كاملين ١😂🖕🇲🇦🇲🇦🇲🇦🇲🇦</td>\n",
       "      <td>Sport</td>\n",
       "    </tr>\n",
       "    <tr>\n",
       "      <th>2</th>\n",
       "      <td>بغيت نشارك فشي مسابقة حيت عندي 90 فتخفيض</td>\n",
       "      <td>Gaming</td>\n",
       "    </tr>\n",
       "    <tr>\n",
       "      <th>3</th>\n",
       "      <td>چاتني 92ف10</td>\n",
       "      <td>Gaming</td>\n",
       "    </tr>\n",
       "    <tr>\n",
       "      <th>4</th>\n",
       "      <td>USER angel  \\nجواب العياشة هوا لي كلتي دابا</td>\n",
       "      <td>News</td>\n",
       "    </tr>\n",
       "  </tbody>\n",
       "</table>\n",
       "</div>"
      ],
      "text/plain": [
       "                                                text  labels\n",
       "0  خويا نصيحة مني. كمل فخدمتك ومتديهاش فكلام ناس ...    News\n",
       "1                         ضربناكم كاملين ١😂🖕🇲🇦🇲🇦🇲🇦🇲🇦   Sport\n",
       "2           بغيت نشارك فشي مسابقة حيت عندي 90 فتخفيض  Gaming\n",
       "3                                        چاتني 92ف10  Gaming\n",
       "4        USER angel  \\nجواب العياشة هوا لي كلتي دابا    News"
      ]
     },
     "execution_count": 3,
     "metadata": {},
     "output_type": "execute_result"
    }
   ],
   "source": [
    "df.head()"
   ]
  },
  {
   "cell_type": "code",
   "execution_count": 9,
   "id": "1eda2bbe",
   "metadata": {},
   "outputs": [
    {
     "data": {
      "text/html": [
       "<div>\n",
       "<style scoped>\n",
       "    .dataframe tbody tr th:only-of-type {\n",
       "        vertical-align: middle;\n",
       "    }\n",
       "\n",
       "    .dataframe tbody tr th {\n",
       "        vertical-align: top;\n",
       "    }\n",
       "\n",
       "    .dataframe thead th {\n",
       "        text-align: right;\n",
       "    }\n",
       "</style>\n",
       "<table border=\"1\" class=\"dataframe\">\n",
       "  <thead>\n",
       "    <tr style=\"text-align: right;\">\n",
       "      <th></th>\n",
       "      <th>text</th>\n",
       "      <th>labels</th>\n",
       "    </tr>\n",
       "  </thead>\n",
       "  <tbody>\n",
       "    <tr>\n",
       "      <th>0</th>\n",
       "      <td>False</td>\n",
       "      <td>False</td>\n",
       "    </tr>\n",
       "    <tr>\n",
       "      <th>1</th>\n",
       "      <td>False</td>\n",
       "      <td>False</td>\n",
       "    </tr>\n",
       "    <tr>\n",
       "      <th>2</th>\n",
       "      <td>False</td>\n",
       "      <td>False</td>\n",
       "    </tr>\n",
       "    <tr>\n",
       "      <th>3</th>\n",
       "      <td>False</td>\n",
       "      <td>False</td>\n",
       "    </tr>\n",
       "    <tr>\n",
       "      <th>4</th>\n",
       "      <td>False</td>\n",
       "      <td>False</td>\n",
       "    </tr>\n",
       "    <tr>\n",
       "      <th>...</th>\n",
       "      <td>...</td>\n",
       "      <td>...</td>\n",
       "    </tr>\n",
       "    <tr>\n",
       "      <th>64217</th>\n",
       "      <td>False</td>\n",
       "      <td>False</td>\n",
       "    </tr>\n",
       "    <tr>\n",
       "      <th>64218</th>\n",
       "      <td>False</td>\n",
       "      <td>False</td>\n",
       "    </tr>\n",
       "    <tr>\n",
       "      <th>64219</th>\n",
       "      <td>False</td>\n",
       "      <td>False</td>\n",
       "    </tr>\n",
       "    <tr>\n",
       "      <th>64220</th>\n",
       "      <td>False</td>\n",
       "      <td>False</td>\n",
       "    </tr>\n",
       "    <tr>\n",
       "      <th>64221</th>\n",
       "      <td>False</td>\n",
       "      <td>False</td>\n",
       "    </tr>\n",
       "  </tbody>\n",
       "</table>\n",
       "<p>64222 rows × 2 columns</p>\n",
       "</div>"
      ],
      "text/plain": [
       "        text  labels\n",
       "0      False   False\n",
       "1      False   False\n",
       "2      False   False\n",
       "3      False   False\n",
       "4      False   False\n",
       "...      ...     ...\n",
       "64217  False   False\n",
       "64218  False   False\n",
       "64219  False   False\n",
       "64220  False   False\n",
       "64221  False   False\n",
       "\n",
       "[64222 rows x 2 columns]"
      ]
     },
     "execution_count": 9,
     "metadata": {},
     "output_type": "execute_result"
    }
   ],
   "source": [
    "df.isnull()"
   ]
  },
  {
   "cell_type": "code",
   "execution_count": 23,
   "id": "e161379d",
   "metadata": {},
   "outputs": [
    {
     "data": {
      "image/png": "[encoded data removed]",
      "text/plain": [
       "<Figure size 640x480 with 1 Axes>"
      ]
     },
     "metadata": {},
     "output_type": "display_data"
    }
   ],
   "source": [
    "#df['labels'].value_counts()\n",
    "df['labels'].value_counts().plot(kind='bar')\n",
    "plt.title('Label Distribution')\n",
    "plt.xlabel('Label')\n",
    "plt.ylabel('Count')\n",
    "plt.show()"
   ]
  },
  {
   "cell_type": "code",
   "execution_count": 11,
   "id": "68a737a8",
   "metadata": {},
   "outputs": [
    {
     "data": {
      "text/plain": [
       "<Axes: >"
      ]
     },
     "execution_count": 11,
     "metadata": {},
     "output_type": "execute_result"
    },
    {
     "data": {
      "image/png": "[encoded data removed]",
      "text/plain": [
       "<Figure size 640x480 with 2 Axes>"
      ]
     },
     "metadata": {},
     "output_type": "display_data"
    }
   ],
   "source": [
    "sns.heatmap(df.isnull())"
   ]
  },
  {
   "cell_type": "code",
   "execution_count": 61,
   "id": "0fe143e3",
   "metadata": {},
   "outputs": [],
   "source": [
    "# raport de datasets pour les autres \n",
    "def rapport_dataset(df,label='label'):\n",
    "    conclusions=[]\n",
    "    conclusions.append(df.describe())\n",
    "    df[label].value_counts().plot(kind='bar')\n",
    "    plt.title('Label Distribution')\n",
    "    plt.xlabel('Label')\n",
    "    plt.ylabel('Count')\n",
    "    plt.show()\n",
    "\n",
    "    if(df.isnull().sum().sum()==0):\n",
    "        conclusions.append(\"pas de valeur null\")\n",
    "    else :\n",
    "        conclusions.append(\"valeur null est : \"+str(df.isnull().sum().sum()))\n",
    "    return conclusions\n"
   ]
  },
  {
   "cell_type": "code",
   "execution_count": 59,
   "id": "73f2b7c8",
   "metadata": {},
   "outputs": [
    {
     "data": {
      "text/html": [
       "<div>\n",
       "<style scoped>\n",
       "    .dataframe tbody tr th:only-of-type {\n",
       "        vertical-align: middle;\n",
       "    }\n",
       "\n",
       "    .dataframe tbody tr th {\n",
       "        vertical-align: top;\n",
       "    }\n",
       "\n",
       "    .dataframe thead th {\n",
       "        text-align: right;\n",
       "    }\n",
       "</style>\n",
       "<table border=\"1\" class=\"dataframe\">\n",
       "  <thead>\n",
       "    <tr style=\"text-align: right;\">\n",
       "      <th></th>\n",
       "      <th>tweet</th>\n",
       "      <th>label</th>\n",
       "    </tr>\n",
       "  </thead>\n",
       "  <tbody>\n",
       "    <tr>\n",
       "      <th>0</th>\n",
       "      <td>طوال حياتي لم المس اي تغير حتى قدمت هذه الحكوم...</td>\n",
       "      <td>pos</td>\n",
       "    </tr>\n",
       "    <tr>\n",
       "      <th>1</th>\n",
       "      <td>منتوج رائع  وثمن مناسب ....جميل</td>\n",
       "      <td>pos</td>\n",
       "    </tr>\n",
       "    <tr>\n",
       "      <th>2</th>\n",
       "      <td>كلنا ابن كيران لمتافق معايا يدير جيم</td>\n",
       "      <td>pos</td>\n",
       "    </tr>\n",
       "    <tr>\n",
       "      <th>3</th>\n",
       "      <td>وفقك الله لولاية اخرى حقاش مكينش محسن منك</td>\n",
       "      <td>pos</td>\n",
       "    </tr>\n",
       "    <tr>\n",
       "      <th>4</th>\n",
       "      <td>لأنه و بكل بساطة رئيس الحكومة يعتني بمعاق داخل...</td>\n",
       "      <td>pos</td>\n",
       "    </tr>\n",
       "  </tbody>\n",
       "</table>\n",
       "</div>"
      ],
      "text/plain": [
       "                                               tweet label\n",
       "0  طوال حياتي لم المس اي تغير حتى قدمت هذه الحكوم...   pos\n",
       "1                    منتوج رائع  وثمن مناسب ....جميل   pos\n",
       "2               كلنا ابن كيران لمتافق معايا يدير جيم   pos\n",
       "3          وفقك الله لولاية اخرى حقاش مكينش محسن منك   pos\n",
       "4  لأنه و بكل بساطة رئيس الحكومة يعتني بمعاق داخل...   pos"
      ]
     },
     "execution_count": 59,
     "metadata": {},
     "output_type": "execute_result"
    }
   ],
   "source": [
    "#premier dataset \n",
    "df1.head()"
   ]
  },
  {
   "cell_type": "code",
   "execution_count": 62,
   "id": "1354226d",
   "metadata": {},
   "outputs": [
    {
     "data": {
      "image/png": "[encoded data removed]",
      "text/plain": [
       "<Figure size 640x480 with 1 Axes>"
      ]
     },
     "metadata": {},
     "output_type": "display_data"
    },
    {
     "data": {
      "text/plain": [
       "[                                          tweet label\n",
       " count                                      2000  2000\n",
       " unique                                     1975     2\n",
       " top     وكنفتخر بكل رجال ونساء العدالة والتنمية   pos\n",
       " freq                                          2  1000,\n",
       " 'pas de valeur null']"
      ]
     },
     "execution_count": 62,
     "metadata": {},
     "output_type": "execute_result"
    }
   ],
   "source": [
    "rapport_dataset(df1)"
   ]
  },
  {
   "cell_type": "code",
   "execution_count": 134,
   "id": "8b4324c6",
   "metadata": {},
   "outputs": [
    {
     "data": {
      "text/html": [
       "<div>\n",
       "<style scoped>\n",
       "    .dataframe tbody tr th:only-of-type {\n",
       "        vertical-align: middle;\n",
       "    }\n",
       "\n",
       "    .dataframe tbody tr th {\n",
       "        vertical-align: top;\n",
       "    }\n",
       "\n",
       "    .dataframe thead th {\n",
       "        text-align: right;\n",
       "    }\n",
       "</style>\n",
       "<table border=\"1\" class=\"dataframe\">\n",
       "  <thead>\n",
       "    <tr style=\"text-align: right;\">\n",
       "      <th></th>\n",
       "      <th>text</th>\n",
       "      <th>label</th>\n",
       "    </tr>\n",
       "  </thead>\n",
       "  <tbody>\n",
       "    <tr>\n",
       "      <th>0</th>\n",
       "      <td>البرادعي يستقوى بامريكا مرةاخرى و يرسل عصام ال...</td>\n",
       "      <td>0</td>\n",
       "    </tr>\n",
       "    <tr>\n",
       "      <th>1</th>\n",
       "      <td>عودة جماعة الإخوان إلى الحياة السياسية بنفس وض...</td>\n",
       "      <td>0</td>\n",
       "    </tr>\n",
       "    <tr>\n",
       "      <th>2</th>\n",
       "      <td>الإصرار علي الإستفتاء في ظل وطن ممزق وغليان شع...</td>\n",
       "      <td>0</td>\n",
       "    </tr>\n",
       "    <tr>\n",
       "      <th>3</th>\n",
       "      <td>أدين بشدة تقديم كل صاحب رأي أو ناشط سياسي للمح...</td>\n",
       "      <td>0</td>\n",
       "    </tr>\n",
       "    <tr>\n",
       "      <th>4</th>\n",
       "      <td>1 العنف مدان، ضد منشآت عامة أو خاصة، ضد مجمع م...</td>\n",
       "      <td>0</td>\n",
       "    </tr>\n",
       "    <tr>\n",
       "      <th>5</th>\n",
       "      <td>انا لو نفسي اخطط و ارتب و اصرف فلوس الدنيا عشا...</td>\n",
       "      <td>0</td>\n",
       "    </tr>\n",
       "    <tr>\n",
       "      <th>6</th>\n",
       "      <td>تحالف بين #أنصار_بيت_المقدس و #الحرس_الثوري لت...</td>\n",
       "      <td>0</td>\n",
       "    </tr>\n",
       "    <tr>\n",
       "      <th>7</th>\n",
       "      <td>_ 0 مش عيب تكذب؟ عمري ما عملت ولا هعمل بلوك لح...</td>\n",
       "      <td>0</td>\n",
       "    </tr>\n",
       "    <tr>\n",
       "      <th>8</th>\n",
       "      <td>الضعف الانتخابي والجماهيري لا يقتصر على الأحزا...</td>\n",
       "      <td>0</td>\n",
       "    </tr>\n",
       "    <tr>\n",
       "      <th>9</th>\n",
       "      <td>#مصر_القوية |11-حذرنا من خطر تحول سلطات الدولة...</td>\n",
       "      <td>0</td>\n",
       "    </tr>\n",
       "    <tr>\n",
       "      <th>10</th>\n",
       "      <td>منذ عامين وحتى الآن كل ما قدمه أنصار تيارات ال...</td>\n",
       "      <td>0</td>\n",
       "    </tr>\n",
       "    <tr>\n",
       "      <th>11</th>\n",
       "      <td>#باسم_طلع_حرامى يا حرامي</td>\n",
       "      <td>0</td>\n",
       "    </tr>\n",
       "    <tr>\n",
       "      <th>12</th>\n",
       "      <td>السلفي سعيد عبد العظيم قال أن مرسي آية من آيات...</td>\n",
       "      <td>0</td>\n",
       "    </tr>\n",
       "    <tr>\n",
       "      <th>13</th>\n",
       "      <td>اكثر شعور يوجع ! ^#لما تجوع في بيت مو بيتكم ☺**</td>\n",
       "      <td>0</td>\n",
       "    </tr>\n",
       "    <tr>\n",
       "      <th>14</th>\n",
       "      <td>5 هاتلي اخوان أي حاجة مش تنوين ومش ضمير اخوان ...</td>\n",
       "      <td>0</td>\n",
       "    </tr>\n",
       "    <tr>\n",
       "      <th>15</th>\n",
       "      <td>الماظة:لابد من معايرة العدادات وتوحيد التعريفة...</td>\n",
       "      <td>0</td>\n",
       "    </tr>\n",
       "    <tr>\n",
       "      <th>16</th>\n",
       "      <td>‏ الأسواني:ماذا فعلوا الأخوان رداًعلى سحل فتاة...</td>\n",
       "      <td>0</td>\n",
       "    </tr>\n",
       "    <tr>\n",
       "      <th>17</th>\n",
       "      <td>حرية التعبير لا تتضمن التحريض على العنف و الفت...</td>\n",
       "      <td>0</td>\n",
       "    </tr>\n",
       "    <tr>\n",
       "      <th>18</th>\n",
       "      <td>قصدي كان موجه لكذبك أني ما كنتش هناك</td>\n",
       "      <td>0</td>\n",
       "    </tr>\n",
       "    <tr>\n",
       "      <th>19</th>\n",
       "      <td>مرسي فتح على نفسه فتوحة ضنك بذاته الرئاسية دي ...</td>\n",
       "      <td>0</td>\n",
       "    </tr>\n",
       "    <tr>\n",
       "      <th>20</th>\n",
       "      <td>بكري قبل مايستقيل خد معاه الميكروفون البيتبكري...</td>\n",
       "      <td>0</td>\n",
       "    </tr>\n",
       "    <tr>\n",
       "      <th>21</th>\n",
       "      <td>ويبقى دائما السؤال: لما إنت جامد قوي ومفترض إن...</td>\n",
       "      <td>0</td>\n",
       "    </tr>\n",
       "    <tr>\n",
       "      <th>22</th>\n",
       "      <td>5ج وأنعت الرئيس بعد الحشد المذهبي والطائفي برئ...</td>\n",
       "      <td>0</td>\n",
       "    </tr>\n",
       "    <tr>\n",
       "      <th>23</th>\n",
       "      <td>إستمرار الحراك الطلابي بـ #جامعة_المنصورة #مفي...</td>\n",
       "      <td>0</td>\n",
       "    </tr>\n",
       "    <tr>\n",
       "      <th>24</th>\n",
       "      <td>7_ أكبر معوقة وخازوق أخذناه كان من الإخوان أنا...</td>\n",
       "      <td>0</td>\n",
       "    </tr>\n",
       "    <tr>\n",
       "      <th>25</th>\n",
       "      <td>الراجل بتاع الامن بينف بمعدل نفتين كل ٧ دقايق ...</td>\n",
       "      <td>0</td>\n",
       "    </tr>\n",
       "    <tr>\n",
       "      <th>26</th>\n",
       "      <td>حظ العوالم ! :) #الاهلي_الافريقي</td>\n",
       "      <td>0</td>\n",
       "    </tr>\n",
       "    <tr>\n",
       "      <th>27</th>\n",
       "      <td>منهج الانقلاب قتل وقمع وسجن اى معارض اعلام فاس...</td>\n",
       "      <td>0</td>\n",
       "    </tr>\n",
       "    <tr>\n",
       "      <th>28</th>\n",
       "      <td>1 3 قتلى وأكثر من 450 مصاب في محافظات مختلفة، ...</td>\n",
       "      <td>0</td>\n",
       "    </tr>\n",
       "    <tr>\n",
       "      <th>29</th>\n",
       "      <td>نفسي فيه و تفوو عليه ! #فيفي_عبده =))</td>\n",
       "      <td>0</td>\n",
       "    </tr>\n",
       "  </tbody>\n",
       "</table>\n",
       "</div>"
      ],
      "text/plain": [
       "                                                 text  label\n",
       "0   البرادعي يستقوى بامريكا مرةاخرى و يرسل عصام ال...      0\n",
       "1   عودة جماعة الإخوان إلى الحياة السياسية بنفس وض...      0\n",
       "2   الإصرار علي الإستفتاء في ظل وطن ممزق وغليان شع...      0\n",
       "3   أدين بشدة تقديم كل صاحب رأي أو ناشط سياسي للمح...      0\n",
       "4   1 العنف مدان، ضد منشآت عامة أو خاصة، ضد مجمع م...      0\n",
       "5   انا لو نفسي اخطط و ارتب و اصرف فلوس الدنيا عشا...      0\n",
       "6   تحالف بين #أنصار_بيت_المقدس و #الحرس_الثوري لت...      0\n",
       "7   _ 0 مش عيب تكذب؟ عمري ما عملت ولا هعمل بلوك لح...      0\n",
       "8   الضعف الانتخابي والجماهيري لا يقتصر على الأحزا...      0\n",
       "9   #مصر_القوية |11-حذرنا من خطر تحول سلطات الدولة...      0\n",
       "10  منذ عامين وحتى الآن كل ما قدمه أنصار تيارات ال...      0\n",
       "11                           #باسم_طلع_حرامى يا حرامي      0\n",
       "12  السلفي سعيد عبد العظيم قال أن مرسي آية من آيات...      0\n",
       "13    اكثر شعور يوجع ! ^#لما تجوع في بيت مو بيتكم ☺**      0\n",
       "14  5 هاتلي اخوان أي حاجة مش تنوين ومش ضمير اخوان ...      0\n",
       "15  الماظة:لابد من معايرة العدادات وتوحيد التعريفة...      0\n",
       "16  ‏ الأسواني:ماذا فعلوا الأخوان رداًعلى سحل فتاة...      0\n",
       "17  حرية التعبير لا تتضمن التحريض على العنف و الفت...      0\n",
       "18               قصدي كان موجه لكذبك أني ما كنتش هناك      0\n",
       "19  مرسي فتح على نفسه فتوحة ضنك بذاته الرئاسية دي ...      0\n",
       "20  بكري قبل مايستقيل خد معاه الميكروفون البيتبكري...      0\n",
       "21  ويبقى دائما السؤال: لما إنت جامد قوي ومفترض إن...      0\n",
       "22  5ج وأنعت الرئيس بعد الحشد المذهبي والطائفي برئ...      0\n",
       "23  إستمرار الحراك الطلابي بـ #جامعة_المنصورة #مفي...      0\n",
       "24  7_ أكبر معوقة وخازوق أخذناه كان من الإخوان أنا...      0\n",
       "25  الراجل بتاع الامن بينف بمعدل نفتين كل ٧ دقايق ...      0\n",
       "26                   حظ العوالم ! :) #الاهلي_الافريقي      0\n",
       "27  منهج الانقلاب قتل وقمع وسجن اى معارض اعلام فاس...      0\n",
       "28  1 3 قتلى وأكثر من 450 مصاب في محافظات مختلفة، ...      0\n",
       "29              نفسي فيه و تفوو عليه ! #فيفي_عبده =))      0"
      ]
     },
     "execution_count": 134,
     "metadata": {},
     "output_type": "execute_result"
    }
   ],
   "source": [
    "# datasets 2 \n",
    "df2.head(30)"
   ]
  },
  {
   "cell_type": "code",
   "execution_count": 67,
   "id": "834b3d0d",
   "metadata": {},
   "outputs": [
    {
     "data": {
      "image/png": "[encoded data removed]",
      "text/plain": [
       "<Figure size 640x480 with 1 Axes>"
      ]
     },
     "metadata": {},
     "output_type": "display_data"
    },
    {
     "data": {
      "text/plain": [
       "[                                                     text label\n",
       " count                                                9694  9694\n",
       " unique                                               9690     4\n",
       " top     الإخوان يطلقون طفايات الحريق للإيحاء بإلقاء ال...   OBJ\n",
       " freq                                                    2  6470,\n",
       " 'pas de valeur null']"
      ]
     },
     "execution_count": 67,
     "metadata": {},
     "output_type": "execute_result"
    }
   ],
   "source": [
    "rapport_dataset(df2)"
   ]
  },
  {
   "cell_type": "code",
   "execution_count": 66,
   "id": "1e5bd9f9",
   "metadata": {},
   "outputs": [
    {
     "data": {
      "text/html": [
       "<div>\n",
       "<style scoped>\n",
       "    .dataframe tbody tr th:only-of-type {\n",
       "        vertical-align: middle;\n",
       "    }\n",
       "\n",
       "    .dataframe tbody tr th {\n",
       "        vertical-align: top;\n",
       "    }\n",
       "\n",
       "    .dataframe thead th {\n",
       "        text-align: right;\n",
       "    }\n",
       "</style>\n",
       "<table border=\"1\" class=\"dataframe\">\n",
       "  <thead>\n",
       "    <tr style=\"text-align: right;\">\n",
       "      <th></th>\n",
       "      <th>Unnamed: 0</th>\n",
       "      <th>comment</th>\n",
       "      <th>off</th>\n",
       "    </tr>\n",
       "  </thead>\n",
       "  <tbody>\n",
       "    <tr>\n",
       "      <th>0</th>\n",
       "      <td>2908</td>\n",
       "      <td>فنانين الكبت والفساد .عقلية جنسية لا غير. العف...</td>\n",
       "      <td>1</td>\n",
       "    </tr>\n",
       "    <tr>\n",
       "      <th>1</th>\n",
       "      <td>1055</td>\n",
       "      <td>الدعارة هربت منها في المحمدية و سكنت في بوزنيق...</td>\n",
       "      <td>1</td>\n",
       "    </tr>\n",
       "    <tr>\n",
       "      <th>2</th>\n",
       "      <td>181</td>\n",
       "      <td>كون غير خريتي و مدرتيش هادشي</td>\n",
       "      <td>1</td>\n",
       "    </tr>\n",
       "    <tr>\n",
       "      <th>3</th>\n",
       "      <td>4313</td>\n",
       "      <td>لا حول ولا قوة الا بالله العلي العظيم لا حول و...</td>\n",
       "      <td>0</td>\n",
       "    </tr>\n",
       "    <tr>\n",
       "      <th>4</th>\n",
       "      <td>228</td>\n",
       "      <td>الله يرحم الوالدين عندي مشكل كبيييير و محتاجة ...</td>\n",
       "      <td>0</td>\n",
       "    </tr>\n",
       "  </tbody>\n",
       "</table>\n",
       "</div>"
      ],
      "text/plain": [
       "   Unnamed: 0                                            comment  off\n",
       "0        2908  فنانين الكبت والفساد .عقلية جنسية لا غير. العف...    1\n",
       "1        1055  الدعارة هربت منها في المحمدية و سكنت في بوزنيق...    1\n",
       "2         181                       كون غير خريتي و مدرتيش هادشي    1\n",
       "3        4313  لا حول ولا قوة الا بالله العلي العظيم لا حول و...    0\n",
       "4         228  الله يرحم الوالدين عندي مشكل كبيييير و محتاجة ...    0"
      ]
     },
     "execution_count": 66,
     "metadata": {},
     "output_type": "execute_result"
    }
   ],
   "source": [
    "#df3\n",
    "df3.head()"
   ]
  },
  {
   "cell_type": "code",
   "execution_count": 68,
   "id": "69fed341",
   "metadata": {},
   "outputs": [
    {
     "data": {
      "image/png": "[encoded data removed]",
      "text/plain": [
       "<Figure size 640x480 with 1 Axes>"
      ]
     },
     "metadata": {},
     "output_type": "display_data"
    },
    {
     "data": {
      "text/plain": [
       "[        Unnamed: 0          off\n",
       " count  6419.000000  6419.000000\n",
       " mean   3994.863842     0.532170\n",
       " std    2304.167917     0.499003\n",
       " min       0.000000     0.000000\n",
       " 25%    2000.000000     0.000000\n",
       " 50%    3980.000000     1.000000\n",
       " 75%    5979.500000     1.000000\n",
       " max    8022.000000     1.000000,\n",
       " 'pas de valeur null']"
      ]
     },
     "execution_count": 68,
     "metadata": {},
     "output_type": "execute_result"
    }
   ],
   "source": [
    "rapport_dataset(df3,\"off\")"
   ]
  },
  {
   "cell_type": "code",
   "execution_count": 69,
   "id": "77eff0ec",
   "metadata": {},
   "outputs": [
    {
     "data": {
      "text/html": [
       "<div>\n",
       "<style scoped>\n",
       "    .dataframe tbody tr th:only-of-type {\n",
       "        vertical-align: middle;\n",
       "    }\n",
       "\n",
       "    .dataframe tbody tr th {\n",
       "        vertical-align: top;\n",
       "    }\n",
       "\n",
       "    .dataframe thead th {\n",
       "        text-align: right;\n",
       "    }\n",
       "</style>\n",
       "<table border=\"1\" class=\"dataframe\">\n",
       "  <thead>\n",
       "    <tr style=\"text-align: right;\">\n",
       "      <th></th>\n",
       "      <th>Unnamed: 0</th>\n",
       "      <th>comment</th>\n",
       "      <th>off</th>\n",
       "    </tr>\n",
       "  </thead>\n",
       "  <tbody>\n",
       "    <tr>\n",
       "      <th>0</th>\n",
       "      <td>6139</td>\n",
       "      <td>تبهديل تسؤلو البنات في الشارع</td>\n",
       "      <td>1</td>\n",
       "    </tr>\n",
       "    <tr>\n",
       "      <th>1</th>\n",
       "      <td>3447</td>\n",
       "      <td>انا مستعد بي مسعدة بسيطة في وجه اللة ربي يادير...</td>\n",
       "      <td>0</td>\n",
       "    </tr>\n",
       "    <tr>\n",
       "      <th>2</th>\n",
       "      <td>6844</td>\n",
       "      <td>لاحول ولاقوة الا بالله العلي العظيم</td>\n",
       "      <td>0</td>\n",
       "    </tr>\n",
       "    <tr>\n",
       "      <th>3</th>\n",
       "      <td>2512</td>\n",
       "      <td>حتى هاد العائلة لي جالس وسط منهوم خص يدلمهوم ا...</td>\n",
       "      <td>1</td>\n",
       "    </tr>\n",
       "    <tr>\n",
       "      <th>4</th>\n",
       "      <td>2000</td>\n",
       "      <td>لا حول ولا قوة الا بالله اش هذا المستوى اصلا ر...</td>\n",
       "      <td>1</td>\n",
       "    </tr>\n",
       "  </tbody>\n",
       "</table>\n",
       "</div>"
      ],
      "text/plain": [
       "   Unnamed: 0                                            comment  off\n",
       "0        6139                      تبهديل تسؤلو البنات في الشارع    1\n",
       "1        3447  انا مستعد بي مسعدة بسيطة في وجه اللة ربي يادير...    0\n",
       "2        6844                لاحول ولاقوة الا بالله العلي العظيم    0\n",
       "3        2512  حتى هاد العائلة لي جالس وسط منهوم خص يدلمهوم ا...    1\n",
       "4        2000  لا حول ولا قوة الا بالله اش هذا المستوى اصلا ر...    1"
      ]
     },
     "execution_count": 69,
     "metadata": {},
     "output_type": "execute_result"
    }
   ],
   "source": [
    "# dataset 4\n",
    "df4.head()"
   ]
  },
  {
   "cell_type": "code",
   "execution_count": 71,
   "id": "a24c1ce6",
   "metadata": {},
   "outputs": [
    {
     "data": {
      "image/png": "[encoded data removed]",
      "text/plain": [
       "<Figure size 640x480 with 1 Axes>"
      ]
     },
     "metadata": {},
     "output_type": "display_data"
    },
    {
     "data": {
      "text/plain": [
       "[        Unnamed: 0          off\n",
       " count  1605.000000  1605.000000\n",
       " mean   4078.034268     0.553271\n",
       " std    2364.607793     0.497309\n",
       " min      10.000000     0.000000\n",
       " 25%    2031.000000     0.000000\n",
       " 50%    4140.000000     1.000000\n",
       " 75%    6139.000000     1.000000\n",
       " max    8023.000000     1.000000,\n",
       " 'pas de valeur null']"
      ]
     },
     "execution_count": 71,
     "metadata": {},
     "output_type": "execute_result"
    }
   ],
   "source": [
    "rapport_dataset(df4,\"off\")"
   ]
  },
  {
   "cell_type": "markdown",
   "id": "809148f8",
   "metadata": {},
   "source": [
    "## Conclusions sur les datasets\n",
    "\n",
    "Nous avons examiné quatre ensembles de données liés aux sentiments, et voici nos observations pour chaque ensemble :\n",
    "\n",
    "### df1\n",
    "- Le dataset est équilibré avec 1000 commentaires positifs et 1000 commentaires négatifs.\n",
    "- Cependant, il est nécessaire de transformer les valeurs pour qu'elles soient binaires (1, 0).\n",
    "\n",
    "### df2\n",
    "- Le dataset présente un déséquilibre entre les classes.\n",
    "- Les données ne sont pas encore binaires, nécessitant une équilibrage des données.\n",
    "- Il est nécessaire de supprimer les données associées à des classes autres que positives et négatives.\n",
    "- Codification des sentiments en 1 pour positif et 0 pour négatif.\n",
    "\n",
    "### df3\n",
    "- Les commentaires dans cet ensemble de données sont proches de l'équilibre.\n",
    "- Une équilibrage est nécessaire pour chaque classe.\n",
    "\n",
    "### df4\n",
    "- Équilibrage des données requis.\n",
    "- Renommer les classes en utilisant une codification binaire.\n",
    "\n",
    "### Remarque générale\n",
    "- L'équilibrage des données est crucial dans tous les ensembles.\n",
    "- Pour les datasets non binaires, la transformation en binaire (1, 0) est nécessaire.\n",
    "- Il est également recommandé de normaliser les valeurs de la moyenne des données binaires à 0,5 pour df4.\n"
   ]
  },
  {
   "cell_type": "markdown",
   "id": "a38aa7d4",
   "metadata": {},
   "source": [
    "# Prétraitement des Données\n",
    "\n",
    "1. Transformer les valeurs du dataset df1 en binaires (1, 0).\n",
    "2. Équilibrer les classes dans df2, df3 et df4.\n",
    "3. Supprimer les données associées à des classes autres que positives et négatives dans df2.\n",
    "4. Renommer les classes de df4 en utilisant une codification binaire.\n",
    "5. creation d'un dataframe de tout les donnes "
   ]
  },
  {
   "cell_type": "code",
   "execution_count": 103,
   "id": "ecc5f33f",
   "metadata": {},
   "outputs": [],
   "source": [
    "#fonction pour equilibre les donnes \n",
    "import pandas as pd\n",
    "\n",
    "def equilibrer_dataframe(df, cible, methode, graine_aleatoire=42):\n",
    "\n",
    "    # Trouver la classe avec le nombre minimum / maximum d'échantillons\n",
    "    classe_minoritaire = df[cible].value_counts().idxmin()\n",
    "    classe_majoritaire = df[cible].value_counts().idxmax()\n",
    "\n",
    "    # Séparer le DataFrame en deux en fonction de la classe cible\n",
    "    df_minoritaire = df[df[cible] == classe_minoritaire]\n",
    "    df_majoritaire = df[df[cible] == classe_majoritaire]\n",
    "\n",
    "    if methode == 'over' or methode == 1:\n",
    "        # Duplication aléatoire des lignes\n",
    "        facteur_surechantillonnage = int(len(df_majoritaire) / len(df_minoritaire))\n",
    "        df_minoritaire_resample = pd.concat([df_minoritaire] * facteur_surechantillonnage, ignore_index=True)\n",
    "        df_equilibre = pd.concat([df_majoritaire, df_minoritaire_resample], ignore_index=True)\n",
    "    elif methode == 'under' or methode == -1:\n",
    "        # Suppression aléatoire des lignes\n",
    "        taille_sous_echantillon = min(len(df_minoritaire), len(df_majoritaire))\n",
    "        df_majoritaire_sous_echantillonne = df_majoritaire.sample(n=taille_sous_echantillon, random_state=graine_aleatoire)\n",
    "        df_equilibre = pd.concat([df_majoritaire_sous_echantillonne, df_minoritaire], ignore_index=True)\n",
    "    else:\n",
    "        raise ValueError(\"Méthode d'équilibrage invalide. Utilisez 'over/1' ou 'under/-1'\")\n",
    "\n",
    "    return df_equilibre\n"
   ]
  },
  {
   "cell_type": "code",
   "execution_count": 122,
   "id": "89d09dcd",
   "metadata": {},
   "outputs": [
    {
     "name": "stdout",
     "output_type": "stream",
     "text": [
      "df1 après transformation binaire :\n",
      " 1    1000\n",
      "0    1000\n",
      "Name: label, dtype: int64\n",
      "\n",
      "df2 après équilibrage et suppression :\n",
      " 0    1642\n",
      "1    1554\n",
      "Name: label, dtype: int64\n",
      "\n",
      "df3 après équilibrage :\n",
      " 1    3003\n",
      "0    3003\n",
      "Name: label, dtype: int64\n",
      "\n",
      "df4 après renommage binaire :\n",
      " 1    717\n",
      "0    717\n",
      "Name: label, dtype: int64\n"
     ]
    }
   ],
   "source": [
    "# Transformer les valeurs du dataset df1 en binaires (1, 0)\n",
    "df1['label'] = df1['label'].map({'pos': 1, 'neg': 0})\n",
    "\n",
    "# Supprimer les données associées à des classes autres que positives et négatives dans df2\n",
    "df2 = df2[df2['label'].isin(['POS', 'NEG'])]\n",
    "\n",
    "# Transformer les valeurs du dataset df en binaires (1, 0)\n",
    "df2['label'] = df2['label'].map({'POS': 1, 'NEG': 0})\n",
    "\n",
    "\n",
    "# Renommer le champ \"off\" dans df3\n",
    "df3 = df3.rename(columns={'off': 'label'})\n",
    "# Renommer le champ \"off\" dans df4\n",
    "df4 = df4.rename(columns={'off': 'label'})\n",
    "\n",
    "# Renommer le champ \"text\" dans les dfs\n",
    "df1 = df1.rename(columns={'tweet': 'text'})\n",
    "df3 = df3.rename(columns={'comment': 'text'})\n",
    "df4 = df4.rename(columns={'comment': 'text'})\n",
    "\n",
    "# equilbre des donnes \n",
    "\n",
    "df2 = equilibrer_dataframe(df2, 'label', 1)\n",
    "df3 = equilibrer_dataframe(df3, 'label', -1)\n",
    "df4 = equilibrer_dataframe(df4, 'label', -1)\n",
    "\n",
    "\n",
    "# Afficher les aperçus des données après le prétraitement\n",
    "print(\"df1 après transformation binaire :\\n\", df1['label'].value_counts())\n",
    "print(\"\\ndf2 après équilibrage et suppression :\\n\", df2['label'].value_counts())\n",
    "print(\"\\ndf3 après équilibrage :\\n\", df3['label'].value_counts())\n",
    "print(\"\\ndf4 après renommage binaire :\\n\", df4['label'].value_counts())"
   ]
  },
  {
   "cell_type": "code",
   "execution_count": 117,
   "id": "6aef797d",
   "metadata": {},
   "outputs": [],
   "source": [
    "def merge_dataframes(dfs):\n",
    "    \"\"\"\n",
    "    Balence the dataframe by [under-sampling the majority/oversampling the minority] class\n",
    "\n",
    "    Parameters:\n",
    "    - dfs: List of Pandas DataFrames to merge\n",
    "\n",
    "    Returns:\n",
    "    - Merged Pandas DataFrame\n",
    "    \"\"\"\n",
    "\n",
    "    merged_df = pd.concat(dfs, ignore_index=True)\n",
    " #   merged_df = merged_df.drop_duplicates()\n",
    "\n",
    "    return merged_df"
   ]
  },
  {
   "cell_type": "code",
   "execution_count": 135,
   "id": "24e26dce",
   "metadata": {},
   "outputs": [],
   "source": [
    "df= merge_dataframes([df1,df3,df4])\n",
    "df = df.drop('Unnamed: 0', axis=1)\n"
   ]
  },
  {
   "cell_type": "code",
   "execution_count": 136,
   "id": "d6c66558",
   "metadata": {},
   "outputs": [
    {
     "data": {
      "text/plain": [
       "0"
      ]
     },
     "execution_count": 136,
     "metadata": {},
     "output_type": "execute_result"
    }
   ],
   "source": [
    "df.isnull().sum().sum()"
   ]
  },
  {
   "cell_type": "code",
   "execution_count": 139,
   "id": "4aa7dd1e",
   "metadata": {},
   "outputs": [
    {
     "data": {
      "text/plain": [
       "1    4720\n",
       "0    4720\n",
       "Name: label, dtype: int64"
      ]
     },
     "execution_count": 139,
     "metadata": {},
     "output_type": "execute_result"
    }
   ],
   "source": [
    "df[\"label\"].value_counts()"
   ]
  },
  {
   "cell_type": "code",
   "execution_count": 177,
   "id": "3e7d9b7e",
   "metadata": {},
   "outputs": [
    {
     "data": {
      "text/html": [
       "<div>\n",
       "<style scoped>\n",
       "    .dataframe tbody tr th:only-of-type {\n",
       "        vertical-align: middle;\n",
       "    }\n",
       "\n",
       "    .dataframe tbody tr th {\n",
       "        vertical-align: top;\n",
       "    }\n",
       "\n",
       "    .dataframe thead th {\n",
       "        text-align: right;\n",
       "    }\n",
       "</style>\n",
       "<table border=\"1\" class=\"dataframe\">\n",
       "  <thead>\n",
       "    <tr style=\"text-align: right;\">\n",
       "      <th></th>\n",
       "      <th>text</th>\n",
       "      <th>label</th>\n",
       "      <th>cleaned_text</th>\n",
       "    </tr>\n",
       "  </thead>\n",
       "  <tbody>\n",
       "    <tr>\n",
       "      <th>0</th>\n",
       "      <td>طوال حياتي لم المس اي تغير حتى قدمت هذه الحكوم...</td>\n",
       "      <td>1</td>\n",
       "      <td>طوال حياتي لم المس اي تغير حتى قدمت هذه الحكوم...</td>\n",
       "    </tr>\n",
       "    <tr>\n",
       "      <th>1</th>\n",
       "      <td>منتوج رائع  وثمن مناسب ....جميل</td>\n",
       "      <td>1</td>\n",
       "      <td>منتوج رائع وثمن مناسب جميل</td>\n",
       "    </tr>\n",
       "    <tr>\n",
       "      <th>2</th>\n",
       "      <td>كلنا ابن كيران لمتافق معايا يدير جيم</td>\n",
       "      <td>1</td>\n",
       "      <td>كلنا ابن كيران لمتافق معايا يدير جيم</td>\n",
       "    </tr>\n",
       "    <tr>\n",
       "      <th>3</th>\n",
       "      <td>وفقك الله لولاية اخرى حقاش مكينش محسن منك</td>\n",
       "      <td>1</td>\n",
       "      <td>وفقك اله لولاية اخرى حقاش مكينش محسن منك</td>\n",
       "    </tr>\n",
       "    <tr>\n",
       "      <th>4</th>\n",
       "      <td>لأنه و بكل بساطة رئيس الحكومة يعتني بمعاق داخل...</td>\n",
       "      <td>1</td>\n",
       "      <td>لأنه و بكل بساطة رئيس الحكومة يعتني بمعاق داخل...</td>\n",
       "    </tr>\n",
       "  </tbody>\n",
       "</table>\n",
       "</div>"
      ],
      "text/plain": [
       "                                                text  label  \\\n",
       "0  طوال حياتي لم المس اي تغير حتى قدمت هذه الحكوم...      1   \n",
       "1                    منتوج رائع  وثمن مناسب ....جميل      1   \n",
       "2               كلنا ابن كيران لمتافق معايا يدير جيم      1   \n",
       "3          وفقك الله لولاية اخرى حقاش مكينش محسن منك      1   \n",
       "4  لأنه و بكل بساطة رئيس الحكومة يعتني بمعاق داخل...      1   \n",
       "\n",
       "                                        cleaned_text  \n",
       "0  طوال حياتي لم المس اي تغير حتى قدمت هذه الحكوم...  \n",
       "1                         منتوج رائع وثمن مناسب جميل  \n",
       "2               كلنا ابن كيران لمتافق معايا يدير جيم  \n",
       "3           وفقك اله لولاية اخرى حقاش مكينش محسن منك  \n",
       "4  لأنه و بكل بساطة رئيس الحكومة يعتني بمعاق داخل...  "
      ]
     },
     "execution_count": 177,
     "metadata": {},
     "output_type": "execute_result"
    }
   ],
   "source": [
    "df.head()"
   ]
  },
  {
   "cell_type": "code",
   "execution_count": 141,
   "id": "42529bdb",
   "metadata": {},
   "outputs": [],
   "source": [
    "#enregister les donnes \n",
    "df.to_csv('dataMerge.csv', encoding='utf-8', index=False)"
   ]
  },
  {
   "cell_type": "markdown",
   "id": "89e097af",
   "metadata": {},
   "source": [
    "# traitement de text et Tokenization"
   ]
  },
  {
   "cell_type": "code",
   "execution_count": 185,
   "id": "74c55bef",
   "metadata": {},
   "outputs": [
    {
     "name": "stderr",
     "output_type": "stream",
     "text": [
      "[nltk_data] Downloading package punkt to\n",
      "[nltk_data]     C:\\Users\\sejja\\AppData\\Roaming\\nltk_data...\n",
      "[nltk_data]   Package punkt is already up-to-date!\n",
      "[nltk_data] Downloading package stopwords to\n",
      "[nltk_data]     C:\\Users\\sejja\\AppData\\Roaming\\nltk_data...\n",
      "[nltk_data]   Package stopwords is already up-to-date!\n"
     ]
    }
   ],
   "source": [
    "import nltk\n",
    "nltk.download('punkt')\n",
    "from nltk.tokenize import word_tokenize\n",
    "from nltk.corpus import stopwords\n",
    "\n",
    "# Download nltk resources\n",
    "nltk.download('stopwords')\n",
    "import re\n",
    "from nltk.stem import SnowballStemmer\n",
    "\n"
   ]
  },
  {
   "cell_type": "code",
   "execution_count": 145,
   "id": "f75cfd21",
   "metadata": {},
   "outputs": [
    {
     "data": {
      "text/html": [
       "<div>\n",
       "<style scoped>\n",
       "    .dataframe tbody tr th:only-of-type {\n",
       "        vertical-align: middle;\n",
       "    }\n",
       "\n",
       "    .dataframe tbody tr th {\n",
       "        vertical-align: top;\n",
       "    }\n",
       "\n",
       "    .dataframe thead th {\n",
       "        text-align: right;\n",
       "    }\n",
       "</style>\n",
       "<table border=\"1\" class=\"dataframe\">\n",
       "  <thead>\n",
       "    <tr style=\"text-align: right;\">\n",
       "      <th></th>\n",
       "      <th>emoji</th>\n",
       "      <th>text</th>\n",
       "    </tr>\n",
       "  </thead>\n",
       "  <tbody>\n",
       "    <tr>\n",
       "      <th>0</th>\n",
       "      <td>🎃</td>\n",
       "      <td>جاك فانوس</td>\n",
       "    </tr>\n",
       "    <tr>\n",
       "      <th>1</th>\n",
       "      <td>🎄</td>\n",
       "      <td>شجرة عيد الميلاد</td>\n",
       "    </tr>\n",
       "    <tr>\n",
       "      <th>2</th>\n",
       "      <td>🎆</td>\n",
       "      <td>العاب ناريه</td>\n",
       "    </tr>\n",
       "    <tr>\n",
       "      <th>3</th>\n",
       "      <td>🎇</td>\n",
       "      <td>الماسة</td>\n",
       "    </tr>\n",
       "    <tr>\n",
       "      <th>4</th>\n",
       "      <td>🧨</td>\n",
       "      <td>مفرقعة نارية</td>\n",
       "    </tr>\n",
       "  </tbody>\n",
       "</table>\n",
       "</div>"
      ],
      "text/plain": [
       "  emoji              text\n",
       "0     🎃         جاك فانوس\n",
       "1     🎄  شجرة عيد الميلاد\n",
       "2     🎆       العاب ناريه\n",
       "3     🎇            الماسة\n",
       "4     🧨      مفرقعة نارية"
      ]
     },
     "execution_count": 145,
     "metadata": {},
     "output_type": "execute_result"
    }
   ],
   "source": [
    "emodf = pd.read_csv('Dataset/emojis.csv')\n",
    "\n",
    "emodf.head()"
   ]
  },
  {
   "cell_type": "code",
   "execution_count": 171,
   "id": "3ff5fe20",
   "metadata": {},
   "outputs": [],
   "source": [
    "def create_emoji_mapping(df):\n",
    "    \"\"\"\n",
    "    Create a mapping dictionary from a DataFrame containing emojis and labels.\n",
    "\n",
    "    Parameters:\n",
    "    - df: DataFrame with 'Emoji' and 'Label' columns\n",
    "\n",
    "    Returns:\n",
    "    - Dictionary mapping emojis to labels\n",
    "    \"\"\"\n",
    "    emoji_mapping = dict(zip(df['emoji'], df['text']))\n",
    "    return emoji_mapping\n",
    "\n",
    "def translate_emoji(text, emoji_mapping):\n",
    "    \"\"\"\n",
    "    Replace emojis in a given text with their corresponding labels based on a mapping dictionary.\n",
    "\n",
    "    Parameters:\n",
    "    - text: Input text\n",
    "    - emoji_mapping: Dictionary mapping emojis to labels\n",
    "\n",
    "    Returns:\n",
    "    - Text with emojis replaced by labels\n",
    "    \"\"\"\n",
    "    for emoji_char, label in emoji_mapping.items():\n",
    "        text = text.replace(emoji_char, ' '+label+' ')\n",
    "\n",
    "    return text\n",
    "\n",
    "\n",
    "def normalize_hashtags(text):\n",
    "    \"\"\"\n",
    "     hashtags processing by removing hashtag and replacing underscore '_' by space ' ' in order to keep the words\n",
    "\n",
    "    Parameters:\n",
    "    - text: Input text\n",
    "\n",
    "    Returns:\n",
    "    - Cleaned text\n",
    "    \"\"\"\n",
    "    hashtag_pattern = re.compile(r'#(\\w+)')\n",
    "    matches = hashtag_pattern.findall(text)\n",
    "    for match in matches:\n",
    "        original_hashtag = '#' + match\n",
    "        transformed_text = match.replace('_', ' ')\n",
    "        text = text.replace(original_hashtag, transformed_text)\n",
    "\n",
    "    return text\n",
    "\n",
    "\n",
    "\n",
    "def clean_text(text):\n",
    "    \"\"\"\n",
    "     text processing steps version 1, including removing URLs, translating emojis,\n",
    "     normalizing digits, keeping only Arabic characters, removing extra whitespaces,\n",
    "     and cleaning up various Arabic text features.\n",
    "\n",
    "    Parameters:\n",
    "    - text: Input text\n",
    "\n",
    "    Returns:\n",
    "    - Cleaned text\n",
    "    \"\"\"\n",
    "\n",
    "    text = re.sub(r\"http\\S+|www\\S+|https\\S+\", \"\", text, flags=re.MULTILINE) # remove URLs\n",
    "    text = translate_emoji(text, emoji_mapping) # emojis to arabic ❤️ to قلب أحمر\n",
    " #   text = trans.normalize_digits(text, source='all', out='west') # Eastern/Persian numbers to Weastern numbers : ۰۱۲۳۴۵۶۷۸۹ ٠١٢٣٤٥٦٧٨٩ to 123456789\n",
    "    text = normalize_hashtags(text) # في_المزيد# to في المزيد\n",
    "    text = re.sub(r'\\s?@\\w+\\s?', ' ', text) # remove tags like @user\n",
    "    text = re.sub(r\"[^\\u0600-\\u06FF\\s]\", \" \", text) # keep only Arabic characters\n",
    "    text = re.sub(r\"(.)\\1+\", r\"\\1\", text) #remove repeated chars : مممممملفففف to ملف\n",
    "    text = ''.join([char for char in text if char not in ['،', '؛', '؟']]) # remove specific arabic punctuation marks like '،', '؛', '؟'\n",
    "    text = re.sub(r\"\\s+\", \" \", text).strip() # remove extra whitespaces\n",
    "\n",
    "    return text"
   ]
  },
  {
   "cell_type": "code",
   "execution_count": 166,
   "id": "471041f9",
   "metadata": {},
   "outputs": [],
   "source": [
    "emoji_mapping = create_emoji_mapping(emodf)\n"
   ]
  },
  {
   "cell_type": "code",
   "execution_count": 300,
   "id": "965ec419",
   "metadata": {},
   "outputs": [
    {
     "data": {
      "text/html": [
       "<div>\n",
       "<style scoped>\n",
       "    .dataframe tbody tr th:only-of-type {\n",
       "        vertical-align: middle;\n",
       "    }\n",
       "\n",
       "    .dataframe tbody tr th {\n",
       "        vertical-align: top;\n",
       "    }\n",
       "\n",
       "    .dataframe thead th {\n",
       "        text-align: right;\n",
       "    }\n",
       "</style>\n",
       "<table border=\"1\" class=\"dataframe\">\n",
       "  <thead>\n",
       "    <tr style=\"text-align: right;\">\n",
       "      <th></th>\n",
       "      <th>text</th>\n",
       "      <th>label</th>\n",
       "      <th>processed_text</th>\n",
       "      <th>cleaned_text</th>\n",
       "    </tr>\n",
       "  </thead>\n",
       "  <tbody>\n",
       "    <tr>\n",
       "      <th>0</th>\n",
       "      <td>طوال حياتي لم المس اي تغير حتى قدمت هذه الحكوم...</td>\n",
       "      <td>1</td>\n",
       "      <td>طوال حيا المس اي تغير قدم حكوم فل نقف بجا بصو</td>\n",
       "      <td>طوال حياتي لم المس اي تغير حتى قدمت هذه الحكوم...</td>\n",
       "    </tr>\n",
       "    <tr>\n",
       "      <th>1</th>\n",
       "      <td>منتوج رائع  وثمن مناسب ....جميل</td>\n",
       "      <td>1</td>\n",
       "      <td>منتوج رايع وثم مناسب .... جميل</td>\n",
       "      <td>منتوج رائع وثمن مناسب جميل</td>\n",
       "    </tr>\n",
       "    <tr>\n",
       "      <th>2</th>\n",
       "      <td>كلنا ابن كيران لمتافق معايا يدير جيم</td>\n",
       "      <td>1</td>\n",
       "      <td>كلن ابن كيرا متافق معا يدير</td>\n",
       "      <td>كلنا ابن كيران لمتافق معايا يدير جيم</td>\n",
       "    </tr>\n",
       "    <tr>\n",
       "      <th>3</th>\n",
       "      <td>وفقك الله لولاية اخرى حقاش مكينش محسن منك</td>\n",
       "      <td>1</td>\n",
       "      <td>وفق الله لولا اخرى حقاش مكينش محس منك</td>\n",
       "      <td>وفقك اله لولاية اخرى حقاش مكينش محسن منك</td>\n",
       "    </tr>\n",
       "    <tr>\n",
       "      <th>4</th>\n",
       "      <td>لأنه و بكل بساطة رئيس الحكومة يعتني بمعاق داخل...</td>\n",
       "      <td>1</td>\n",
       "      <td>لان بكل ساط رييس حكوم يعت معاق داخل بيت جعل ال...</td>\n",
       "      <td>لأنه و بكل بساطة رئيس الحكومة يعتني بمعاق داخل...</td>\n",
       "    </tr>\n",
       "  </tbody>\n",
       "</table>\n",
       "</div>"
      ],
      "text/plain": [
       "                                                text  label  \\\n",
       "0  طوال حياتي لم المس اي تغير حتى قدمت هذه الحكوم...      1   \n",
       "1                    منتوج رائع  وثمن مناسب ....جميل      1   \n",
       "2               كلنا ابن كيران لمتافق معايا يدير جيم      1   \n",
       "3          وفقك الله لولاية اخرى حقاش مكينش محسن منك      1   \n",
       "4  لأنه و بكل بساطة رئيس الحكومة يعتني بمعاق داخل...      1   \n",
       "\n",
       "                                      processed_text  \\\n",
       "0      طوال حيا المس اي تغير قدم حكوم فل نقف بجا بصو   \n",
       "1                     منتوج رايع وثم مناسب .... جميل   \n",
       "2                        كلن ابن كيرا متافق معا يدير   \n",
       "3              وفق الله لولا اخرى حقاش مكينش محس منك   \n",
       "4  لان بكل ساط رييس حكوم يعت معاق داخل بيت جعل ال...   \n",
       "\n",
       "                                        cleaned_text  \n",
       "0  طوال حياتي لم المس اي تغير حتى قدمت هذه الحكوم...  \n",
       "1                         منتوج رائع وثمن مناسب جميل  \n",
       "2               كلنا ابن كيران لمتافق معايا يدير جيم  \n",
       "3           وفقك اله لولاية اخرى حقاش مكينش محسن منك  \n",
       "4  لأنه و بكل بساطة رئيس الحكومة يعتني بمعاق داخل...  "
      ]
     },
     "execution_count": 300,
     "metadata": {},
     "output_type": "execute_result"
    }
   ],
   "source": [
    "# add cleaned text column\n",
    "df['cleaned_text'] = df['text'].apply(clean_text)\n",
    "df.head()"
   ]
  },
  {
   "cell_type": "code",
   "execution_count": 291,
   "id": "9a1061c3",
   "metadata": {},
   "outputs": [],
   "source": [
    "arabic_stop_words = stopwords.words('arabic')\n"
   ]
  },
  {
   "cell_type": "code",
   "execution_count": 295,
   "id": "577cc62d",
   "metadata": {},
   "outputs": [
    {
     "data": {
      "text/plain": [
       "(754,)"
      ]
     },
     "execution_count": 295,
     "metadata": {},
     "output_type": "execute_result"
    }
   ],
   "source": [
    "import numpy as np\n",
    "np.array(arabic_stop_words).shape"
   ]
  },
  {
   "cell_type": "code",
   "execution_count": 178,
   "id": "f3fc77fb",
   "metadata": {},
   "outputs": [
    {
     "name": "stdout",
     "output_type": "stream",
     "text": [
      "       01   04  0630868018  0653056734  0684857098   07   08  0درهم   10  100  \\\n",
      "0     0.0  0.0         0.0         0.0         0.0  0.0  0.0    0.0  0.0  0.0   \n",
      "1     0.0  0.0         0.0         0.0         0.0  0.0  0.0    0.0  0.0  0.0   \n",
      "2     0.0  0.0         0.0         0.0         0.0  0.0  0.0    0.0  0.0  0.0   \n",
      "3     0.0  0.0         0.0         0.0         0.0  0.0  0.0    0.0  0.0  0.0   \n",
      "4     0.0  0.0         0.0         0.0         0.0  0.0  0.0    0.0  0.0  0.0   \n",
      "...   ...  ...         ...         ...         ...  ...  ...    ...  ...  ...   \n",
      "9435  0.0  0.0         0.0         0.0         0.0  0.0  0.0    0.0  0.0  0.0   \n",
      "9436  0.0  0.0         0.0         0.0         0.0  0.0  0.0    0.0  0.0  0.0   \n",
      "9437  0.0  0.0         0.0         0.0         0.0  0.0  0.0    0.0  0.0  0.0   \n",
      "9438  0.0  0.0         0.0         0.0         0.0  0.0  0.0    0.0  0.0  0.0   \n",
      "9439  0.0  0.0         0.0         0.0         0.0  0.0  0.0    0.0  0.0  0.0   \n",
      "\n",
      "      ...  ﻷنا  ﻷيام  ﻹعلام  ﻻحداقا  ﻻحظ  ﻻحياء  ﻻرض  ﻻزين  ﻻنهم  ﻻينفع  \n",
      "0     ...  0.0   0.0    0.0     0.0  0.0    0.0  0.0   0.0   0.0    0.0  \n",
      "1     ...  0.0   0.0    0.0     0.0  0.0    0.0  0.0   0.0   0.0    0.0  \n",
      "2     ...  0.0   0.0    0.0     0.0  0.0    0.0  0.0   0.0   0.0    0.0  \n",
      "3     ...  0.0   0.0    0.0     0.0  0.0    0.0  0.0   0.0   0.0    0.0  \n",
      "4     ...  0.0   0.0    0.0     0.0  0.0    0.0  0.0   0.0   0.0    0.0  \n",
      "...   ...  ...   ...    ...     ...  ...    ...  ...   ...   ...    ...  \n",
      "9435  ...  0.0   0.0    0.0     0.0  0.0    0.0  0.0   0.0   0.0    0.0  \n",
      "9436  ...  0.0   0.0    0.0     0.0  0.0    0.0  0.0   0.0   0.0    0.0  \n",
      "9437  ...  0.0   0.0    0.0     0.0  0.0    0.0  0.0   0.0   0.0    0.0  \n",
      "9438  ...  0.0   0.0    0.0     0.0  0.0    0.0  0.0   0.0   0.0    0.0  \n",
      "9439  ...  0.0   0.0    0.0     0.0  0.0    0.0  0.0   0.0   0.0    0.0  \n",
      "\n",
      "[9440 rows x 34164 columns]\n"
     ]
    }
   ],
   "source": [
    "from sklearn.feature_extraction.text import TfidfVectorizer\n",
    "import pandas as pd\n",
    "\n",
    "# Exemple de données\n",
    "corpus = df[\"text\"]\n",
    "\n",
    "# Création de l'objet TfidfVectorizer\n",
    "tfidf_vectorizer = TfidfVectorizer()\n",
    "\n",
    "# Ajustement et transformation des données\n",
    "tfidf_matrix = tfidf_vectorizer.fit_transform(corpus)\n",
    "\n",
    "# Création d'un DataFrame pour visualiser la matrice TF-IDF\n",
    "df_tfidf = pd.DataFrame(tfidf_matrix.toarray(), columns=tfidf_vectorizer.get_feature_names_out())\n",
    "\n",
    "# Affichage de la matrice TF-IDF\n",
    "print(df_tfidf)\n"
   ]
  },
  {
   "cell_type": "code",
   "execution_count": 180,
   "id": "73445969",
   "metadata": {},
   "outputs": [],
   "source": []
  },
  {
   "cell_type": "code",
   "execution_count": 183,
   "id": "ee825d2d",
   "metadata": {},
   "outputs": [
    {
     "name": "stdout",
     "output_type": "stream",
     "text": [
      "['text', 'haha']\n"
     ]
    }
   ],
   "source": [
    "tokens = word_tokenize(\"text haha \") \n",
    "print(tokens)"
   ]
  },
  {
   "cell_type": "code",
   "execution_count": 189,
   "id": "208f55c2",
   "metadata": {},
   "outputs": [],
   "source": [
    "stop_words = set(stopwords.words('arabic'))\n",
    "all_stop_words = [item for item in stop_words if item not in ['لم', 'ه', 'لا','ن']]\n"
   ]
  },
  {
   "cell_type": "code",
   "execution_count": 190,
   "id": "2fca0561",
   "metadata": {},
   "outputs": [
    {
     "data": {
      "text/html": [
       "<div>\n",
       "<style scoped>\n",
       "    .dataframe tbody tr th:only-of-type {\n",
       "        vertical-align: middle;\n",
       "    }\n",
       "\n",
       "    .dataframe tbody tr th {\n",
       "        vertical-align: top;\n",
       "    }\n",
       "\n",
       "    .dataframe thead th {\n",
       "        text-align: right;\n",
       "    }\n",
       "</style>\n",
       "<table border=\"1\" class=\"dataframe\">\n",
       "  <thead>\n",
       "    <tr style=\"text-align: right;\">\n",
       "      <th></th>\n",
       "      <th>text</th>\n",
       "      <th>label</th>\n",
       "    </tr>\n",
       "  </thead>\n",
       "  <tbody>\n",
       "    <tr>\n",
       "      <th>0</th>\n",
       "      <td>طوال حياتي لم المس اي تغير حتى قدمت هذه الحكوم...</td>\n",
       "      <td>1</td>\n",
       "    </tr>\n",
       "    <tr>\n",
       "      <th>1</th>\n",
       "      <td>منتوج رائع  وثمن مناسب ....جميل</td>\n",
       "      <td>1</td>\n",
       "    </tr>\n",
       "    <tr>\n",
       "      <th>2</th>\n",
       "      <td>كلنا ابن كيران لمتافق معايا يدير جيم</td>\n",
       "      <td>1</td>\n",
       "    </tr>\n",
       "    <tr>\n",
       "      <th>3</th>\n",
       "      <td>وفقك الله لولاية اخرى حقاش مكينش محسن منك</td>\n",
       "      <td>1</td>\n",
       "    </tr>\n",
       "    <tr>\n",
       "      <th>4</th>\n",
       "      <td>لأنه و بكل بساطة رئيس الحكومة يعتني بمعاق داخل...</td>\n",
       "      <td>1</td>\n",
       "    </tr>\n",
       "  </tbody>\n",
       "</table>\n",
       "</div>"
      ],
      "text/plain": [
       "                                                text  label\n",
       "0  طوال حياتي لم المس اي تغير حتى قدمت هذه الحكوم...      1\n",
       "1                    منتوج رائع  وثمن مناسب ....جميل      1\n",
       "2               كلنا ابن كيران لمتافق معايا يدير جيم      1\n",
       "3          وفقك الله لولاية اخرى حقاش مكينش محسن منك      1\n",
       "4  لأنه و بكل بساطة رئيس الحكومة يعتني بمعاق داخل...      1"
      ]
     },
     "execution_count": 190,
     "metadata": {},
     "output_type": "execute_result"
    }
   ],
   "source": [
    "df=pd.read_csv(\"dataMerge.csv\")\n",
    "df.head()"
   ]
  },
  {
   "cell_type": "code",
   "execution_count": 298,
   "id": "c0084fc6",
   "metadata": {},
   "outputs": [],
   "source": [
    "\n",
    "# Fonction pour traiter le texte (supprimer les stopwords, normaliser la casse, etc.)\n",
    "def process_text(text):\n",
    "    # Tokenization\n",
    "    words = word_tokenize(text)\n",
    "    \n",
    "    # Suppression des stopwords\n",
    "    words = [word for word in words if word.lower() not in stop_words]\n",
    "    \n",
    "    # Stemming (facultatif - dépend de votre choix)\n",
    "    stemmer = SnowballStemmer(\"arabic\")\n",
    "    words = [stemmer.stem(word) for word in words]\n",
    "    \n",
    "    # Reconstitution du texte\n",
    "    processed_text = ' '.join(words)\n",
    "    \n",
    "    return processed_text\n",
    "\n",
    "# Appliquer le prétraitement sur la colonne 'text' de votre DataFrame\n",
    "df['processed_text'] = df['text'].apply(process_text)"
   ]
  },
  {
   "cell_type": "code",
   "execution_count": 301,
   "id": "27ad6089",
   "metadata": {},
   "outputs": [
    {
     "data": {
      "text/html": [
       "<div>\n",
       "<style scoped>\n",
       "    .dataframe tbody tr th:only-of-type {\n",
       "        vertical-align: middle;\n",
       "    }\n",
       "\n",
       "    .dataframe tbody tr th {\n",
       "        vertical-align: top;\n",
       "    }\n",
       "\n",
       "    .dataframe thead th {\n",
       "        text-align: right;\n",
       "    }\n",
       "</style>\n",
       "<table border=\"1\" class=\"dataframe\">\n",
       "  <thead>\n",
       "    <tr style=\"text-align: right;\">\n",
       "      <th></th>\n",
       "      <th>text</th>\n",
       "      <th>label</th>\n",
       "      <th>processed_text</th>\n",
       "      <th>cleaned_text</th>\n",
       "    </tr>\n",
       "  </thead>\n",
       "  <tbody>\n",
       "    <tr>\n",
       "      <th>0</th>\n",
       "      <td>طوال حياتي لم المس اي تغير حتى قدمت هذه الحكوم...</td>\n",
       "      <td>1</td>\n",
       "      <td>طوال حيا المس اي تغير قدم حكوم فل نقف بجا بصو</td>\n",
       "      <td>طوال حياتي لم المس اي تغير حتى قدمت هذه الحكوم...</td>\n",
       "    </tr>\n",
       "    <tr>\n",
       "      <th>1</th>\n",
       "      <td>منتوج رائع  وثمن مناسب ....جميل</td>\n",
       "      <td>1</td>\n",
       "      <td>منتوج رايع وثم مناسب .... جميل</td>\n",
       "      <td>منتوج رائع وثمن مناسب جميل</td>\n",
       "    </tr>\n",
       "    <tr>\n",
       "      <th>2</th>\n",
       "      <td>كلنا ابن كيران لمتافق معايا يدير جيم</td>\n",
       "      <td>1</td>\n",
       "      <td>كلن ابن كيرا متافق معا يدير</td>\n",
       "      <td>كلنا ابن كيران لمتافق معايا يدير جيم</td>\n",
       "    </tr>\n",
       "    <tr>\n",
       "      <th>3</th>\n",
       "      <td>وفقك الله لولاية اخرى حقاش مكينش محسن منك</td>\n",
       "      <td>1</td>\n",
       "      <td>وفق الله لولا اخرى حقاش مكينش محس منك</td>\n",
       "      <td>وفقك اله لولاية اخرى حقاش مكينش محسن منك</td>\n",
       "    </tr>\n",
       "    <tr>\n",
       "      <th>4</th>\n",
       "      <td>لأنه و بكل بساطة رئيس الحكومة يعتني بمعاق داخل...</td>\n",
       "      <td>1</td>\n",
       "      <td>لان بكل ساط رييس حكوم يعت معاق داخل بيت جعل ال...</td>\n",
       "      <td>لأنه و بكل بساطة رئيس الحكومة يعتني بمعاق داخل...</td>\n",
       "    </tr>\n",
       "  </tbody>\n",
       "</table>\n",
       "</div>"
      ],
      "text/plain": [
       "                                                text  label  \\\n",
       "0  طوال حياتي لم المس اي تغير حتى قدمت هذه الحكوم...      1   \n",
       "1                    منتوج رائع  وثمن مناسب ....جميل      1   \n",
       "2               كلنا ابن كيران لمتافق معايا يدير جيم      1   \n",
       "3          وفقك الله لولاية اخرى حقاش مكينش محسن منك      1   \n",
       "4  لأنه و بكل بساطة رئيس الحكومة يعتني بمعاق داخل...      1   \n",
       "\n",
       "                                      processed_text  \\\n",
       "0      طوال حيا المس اي تغير قدم حكوم فل نقف بجا بصو   \n",
       "1                     منتوج رايع وثم مناسب .... جميل   \n",
       "2                        كلن ابن كيرا متافق معا يدير   \n",
       "3              وفق الله لولا اخرى حقاش مكينش محس منك   \n",
       "4  لان بكل ساط رييس حكوم يعت معاق داخل بيت جعل ال...   \n",
       "\n",
       "                                        cleaned_text  \n",
       "0  طوال حياتي لم المس اي تغير حتى قدمت هذه الحكوم...  \n",
       "1                         منتوج رائع وثمن مناسب جميل  \n",
       "2               كلنا ابن كيران لمتافق معايا يدير جيم  \n",
       "3           وفقك اله لولاية اخرى حقاش مكينش محسن منك  \n",
       "4  لأنه و بكل بساطة رئيس الحكومة يعتني بمعاق داخل...  "
      ]
     },
     "execution_count": 301,
     "metadata": {},
     "output_type": "execute_result"
    }
   ],
   "source": [
    "df.head()"
   ]
  },
  {
   "cell_type": "code",
   "execution_count": 296,
   "id": "d00b97fc",
   "metadata": {},
   "outputs": [
    {
     "data": {
      "text/plain": [
       "<Axes: >"
      ]
     },
     "execution_count": 296,
     "metadata": {},
     "output_type": "execute_result"
    },
    {
     "data": {
      "image/png": "[encoded data removed]",
      "text/plain": [
       "<Figure size 640x480 with 1 Axes>"
      ]
     },
     "metadata": {},
     "output_type": "display_data"
    }
   ],
   "source": [
    "df['label'].value_counts().plot(kind='bar')"
   ]
  },
  {
   "cell_type": "markdown",
   "id": "48395d28",
   "metadata": {},
   "source": [
    "## Vectorisation avec TF-IDF et separation des donnes\n",
    "Nous avons utilisé la technique TF-IDF (Term Frequency-Inverse Document Frequency) pour convertir nos textes en vecteurs numériques tout en préservant l'importance des mots. Cette transformation est cruciale pour l'entraînement de modèles de machine learning sur des données textuelles."
   ]
  },
  {
   "cell_type": "code",
   "execution_count": 302,
   "id": "a0768f6e",
   "metadata": {},
   "outputs": [
    {
     "name": "stdout",
     "output_type": "stream",
     "text": [
      "Fonctionnalités sélectionnées par TF-IDF : ['0در' '10' '100' '1000' '11' '12' '18' '19' '1990' '1m']\n",
      "Matrice TF-IDF pour les données d'entraînement :\n",
      " [[0. 0. 0. ... 0. 0. 0.]\n",
      " [0. 0. 0. ... 0. 0. 0.]\n",
      " [0. 0. 0. ... 0. 0. 0.]\n",
      " ...\n",
      " [0. 0. 0. ... 0. 0. 0.]\n",
      " [0. 0. 0. ... 0. 0. 0.]\n",
      " [0. 0. 0. ... 0. 0. 0.]]\n"
     ]
    }
   ],
   "source": [
    "# Séparation des données en ensembles d'entraînement et de test\n",
    "X_train, X_test, y_train, y_test = train_test_split(df['processed_text'], df['label'], test_size=0.2, random_state=42)\n",
    "\n",
    "# Vectorisation avec TF-IDF\n",
    "tfidf_vectorizer = TfidfVectorizer(max_features=5000)  # Vous pouvez ajuster le nombre maximal de fonctionnalités\n",
    "X_train_tfidf = tfidf_vectorizer.fit_transform(X_train)\n",
    "X_test_tfidf = tfidf_vectorizer.transform(X_test)\n",
    "\n",
    "# Afficher les fonctionnalités (mots) sélectionnées par TF-IDF\n",
    "feature_names = tfidf_vectorizer.get_feature_names_out()\n",
    "print(\"Fonctionnalités sélectionnées par TF-IDF :\", feature_names[:10])\n",
    "\n",
    "# Afficher la matrice TF-IDF pour les données d'entraînement\n",
    "print(\"Matrice TF-IDF pour les données d'entraînement :\\n\", X_train_tfidf.toarray())"
   ]
  },
  {
   "cell_type": "markdown",
   "id": "62e85f5f",
   "metadata": {},
   "source": [
    "## Préparation des Données avec TF-IDF et Word Embeddings :\n",
    "Nous avons préparé les données en utilisant deux techniques essentielles : TF-IDF pour la vectorisation du texte et Word Embeddings avec Keras. Voici comment nous avons effectué ces étapes :\n",
    "\n"
   ]
  },
  {
   "cell_type": "code",
   "execution_count": 305,
   "id": "c288b61a",
   "metadata": {},
   "outputs": [
    {
     "data": {
      "text/plain": [
       "array([[   0,    0,    0, ..., 2360, 1252,   10],\n",
       "       [   0,    0,    0, ...,  923,  173, 1550],\n",
       "       [   0,    0,    0, ...,   37, 1536,  267],\n",
       "       ...,\n",
       "       [   0,    0,    0, ..., 1375,  180, 1339],\n",
       "       [   0,    0,    0, ...,  581,    4,   33],\n",
       "       [   0,    0,    0, ...,  997,  360, 2176]])"
      ]
     },
     "execution_count": 305,
     "metadata": {},
     "output_type": "execute_result"
    }
   ],
   "source": [
    "import pandas as pd\n",
    "from sklearn.model_selection import train_test_split\n",
    "from sklearn.feature_extraction.text import TfidfVectorizer\n",
    "from keras.preprocessing.text import Tokenizer\n",
    "from keras.preprocessing.sequence import pad_sequences\n",
    "\n",
    "\n",
    "# Étape 1: Vectorisation du Texte avec TF-IDF\n",
    "tfidf_vectorizer = TfidfVectorizer(max_features=5000)  # Vous pouvez ajuster le nombre maximal de fonctionnalités\n",
    "X_tfidf = tfidf_vectorizer.fit_transform(df['processed_text'])\n",
    "y = df['label']\n",
    "\n",
    "# Étape 2: Division en ensembles d'entraînement et de test\n",
    "X_train_tfidf, X_test_tfidf, y_train, y_test = train_test_split(X_tfidf, y, test_size=0.2, random_state=42)\n",
    "\n",
    "# Étape 3: Word Embeddings avec Keras\n",
    "tokenizer = Tokenizer(num_words=3000)  # Vous pouvez ajuster le nombre maximal de mots\n",
    "tokenizer.fit_on_texts(df['text'])\n",
    "X_seq = tokenizer.texts_to_sequences(df['text'])\n",
    "X_pad = pad_sequences(X_seq)\n",
    "\n",
    "# Étape 4: Division des séquences en ensembles d'entraînement et de test\n",
    "X_train_seq, X_test_seq, _, _ = train_test_split(X_pad, y, test_size=0.2, random_state=42)\n",
    "X_train_seq"
   ]
  },
  {
   "cell_type": "markdown",
   "id": "87f3747a",
   "metadata": {},
   "source": [
    "# models\n",
    "## Classification de Texte avec des Modèles Classiques\n",
    "Dans cette section, nous explorons l'utilisation de modèles de classification classiques avec la bibliothèque Scikit-Learn. Les modèles tels que Support Vector Machine (SVM), Random Forest, et Régression Logistique sont entraînés et évalués sur des représentations TF-IDF des commentaires. "
   ]
  },
  {
   "cell_type": "code",
   "execution_count": null,
   "id": "502a4346",
   "metadata": {},
   "outputs": [],
   "source": []
  },
  {
   "cell_type": "code",
   "execution_count": 306,
   "id": "d222367b",
   "metadata": {},
   "outputs": [
    {
     "name": "stdout",
     "output_type": "stream",
     "text": [
      "Accuracy (TF-IDF): 0.7515889830508474\n",
      "Classification Report (TF-IDF):\n",
      "               precision    recall  f1-score   support\n",
      "\n",
      "           0       0.74      0.79      0.76       943\n",
      "           1       0.77      0.72      0.74       945\n",
      "\n",
      "    accuracy                           0.75      1888\n",
      "   macro avg       0.75      0.75      0.75      1888\n",
      "weighted avg       0.75      0.75      0.75      1888\n",
      "\n"
     ]
    }
   ],
   "source": [
    "from sklearn.svm import SVC\n",
    "from sklearn.metrics import accuracy_score, classification_report\n",
    "\n",
    "# Initialisation du modèle SVM\n",
    "svm_model = SVC()\n",
    "\n",
    "# Entraînement du modèle sur les représentations TF-IDF\n",
    "svm_model.fit(X_train_tfidf, y_train)\n",
    "\n",
    "# Prédictions sur l'ensemble de test\n",
    "y_pred_tfidf = svm_model.predict(X_test_tfidf)\n",
    "\n",
    "# Évaluation du modèle\n",
    "accuracy_tfidf = accuracy_score(y_test, y_pred_tfidf)\n",
    "print(f\"Accuracy (TF-IDF): {accuracy_tfidf}\")\n",
    "print(\"Classification Report (TF-IDF):\\n\", classification_report(y_test, y_pred_tfidf))\n"
   ]
  },
  {
   "cell_type": "code",
   "execution_count": 309,
   "id": "596b22b9",
   "metadata": {},
   "outputs": [
    {
     "name": "stdout",
     "output_type": "stream",
     "text": [
      "Accuracy (TF-IDF): 0.7457627118644068\n",
      "Classification Report (TF-IDF):\n",
      "               precision    recall  f1-score   support\n",
      "\n",
      "           0       0.73      0.77      0.75       943\n",
      "           1       0.76      0.72      0.74       945\n",
      "\n",
      "    accuracy                           0.75      1888\n",
      "   macro avg       0.75      0.75      0.75      1888\n",
      "weighted avg       0.75      0.75      0.75      1888\n",
      "\n"
     ]
    }
   ],
   "source": [
    "from sklearn.ensemble import RandomForestClassifier\n",
    "from sklearn.metrics import accuracy_score, classification_report\n",
    "\n",
    "# Initialisation du modèle RandomForestClassifier\n",
    "randomForestClassifier = RandomForestClassifier()\n",
    "\n",
    "# Entraînement du modèle sur les représentations TF-IDF\n",
    "randomForestClassifier.fit(X_train_tfidf, y_train)\n",
    "\n",
    "# Prédictions sur l'ensemble de test\n",
    "y_pred_tfidf = randomForestClassifier.predict(X_test_tfidf)\n",
    "\n",
    "# Évaluation du modèle\n",
    "accuracy_tfidf = accuracy_score(y_test, y_pred_tfidf)\n",
    "print(f\"Accuracy (TF-IDF): {accuracy_tfidf}\")\n",
    "print(\"Classification Report (TF-IDF):\\n\", classification_report(y_test, y_pred_tfidf))\n"
   ]
  },
  {
   "cell_type": "code",
   "execution_count": 311,
   "id": "ba845d94",
   "metadata": {},
   "outputs": [
    {
     "name": "stdout",
     "output_type": "stream",
     "text": [
      "Accuracy (TF-IDF): 0.7457627118644068\n",
      "Classification Report (TF-IDF):\n",
      "               precision    recall  f1-score   support\n",
      "\n",
      "           0       0.73      0.78      0.75       943\n",
      "           1       0.76      0.71      0.74       945\n",
      "\n",
      "    accuracy                           0.75      1888\n",
      "   macro avg       0.75      0.75      0.75      1888\n",
      "weighted avg       0.75      0.75      0.75      1888\n",
      "\n"
     ]
    }
   ],
   "source": [
    "from sklearn.linear_model import LogisticRegression\n",
    "from sklearn.metrics import accuracy_score, classification_report\n",
    "\n",
    "# Initialisation du modèle LogisticRegression\n",
    "logisticRegression = LogisticRegression()\n",
    "\n",
    "# Entraînement du modèle sur les représentations TF-IDF\n",
    "logisticRegression.fit(X_train_tfidf, y_train)\n",
    "\n",
    "# Prédictions sur l'ensemble de test\n",
    "y_pred_tfidf = logisticRegression.predict(X_test_tfidf)\n",
    "\n",
    "# Évaluation du modèle\n",
    "accuracy_tfidf = accuracy_score(y_test, y_pred_tfidf)\n",
    "print(f\"Accuracy (TF-IDF): {accuracy_tfidf}\")\n",
    "print(\"Classification Report (TF-IDF):\\n\", classification_report(y_test, y_pred_tfidf))\n"
   ]
  },
  {
   "cell_type": "code",
   "execution_count": null,
   "id": "d714a30a",
   "metadata": {},
   "outputs": [],
   "source": []
  },
  {
   "cell_type": "markdown",
   "id": "66641e0c",
   "metadata": {},
   "source": [
    "# Optimisation des Modèles Classiques avec GridSearchCV\n",
    "Dans cette section, nous mettons en œuvre l'optimisation des hyperparamètres pour les modèles de classification classiques en utilisant la méthode GridSearchCV de Scikit-Learn. Les modèles Naive Bayes, Régression Logistique et XGBoost sont soumis à une recherche exhaustive des meilleurs hyperparamètres. Voici un résumé des principales étapes de cette partie :\n",
    "## Définition des Pipelines :\n",
    "Trois pipelines sont créés pour chaque modèle : Naive Bayes, Régression Logistique et XGBoost. Chaque pipeline comprend une étape de vectorisation TF-IDF suivie du modèle spécifique."
   ]
  },
  {
   "cell_type": "code",
   "execution_count": null,
   "id": "0935e92d",
   "metadata": {},
   "outputs": [],
   "source": [
    "from sklearn.model_selection import train_test_split, GridSearchCV\n",
    "from sklearn.feature_extraction.text import TfidfVectorizer\n",
    "from sklearn.naive_bayes import MultinomialNB\n",
    "from sklearn.linear_model import LogisticRegression\n",
    "from sklearn.ensemble import RandomForestClassifier\n",
    "from sklearn.pipeline import Pipeline\n",
    "from sklearn.metrics import accuracy_score, classification_report\n",
    "from xgboost import XGBClassifier\n",
    "\n",
    "\n",
    "nb_pipeline = Pipeline([\n",
    "    ('vectorizer', TfidfVectorizer()),\n",
    "    ('model', MultinomialNB())\n",
    "])\n",
    "\n",
    "logreg_pipeline = Pipeline([\n",
    "    ('vectorizer', TfidfVectorizer()),\n",
    "    ('model', LogisticRegression())\n",
    "])\n",
    "\n",
    "xgb_pipeline = Pipeline([\n",
    "    ('vectorizer', TfidfVectorizer()),\n",
    "    ('model', XGBClassifier())\n",
    "])\n",
    "\n",
    "\n",
    "pipelines = {\n",
    "    'Naive Bayes': nb_pipeline,\n",
    "    'Logistic Regression': logreg_pipeline,\n",
    "    'XGBoost': xgb_pipeline\n",
    "}\n"
   ]
  },
  {
   "cell_type": "markdown",
   "id": "ddb286f9",
   "metadata": {},
   "source": [
    "## Définition des Grilles d'Hyperparamètres :\n",
    "Des grilles d'hyperparamètres sont définies pour chaque modèle, spécifiant les combinaisons à explorer pendant la recherche."
   ]
  },
  {
   "cell_type": "code",
   "execution_count": null,
   "id": "7b0a9f76",
   "metadata": {},
   "outputs": [],
   "source": [
    "\n",
    "param_grids = {\n",
    "    'Naive Bayes': {'vectorizer__ngram_range': [(1, 1), (1, 2), (1, 3)],\n",
    "                   'vectorizer__max_df': [0.5],\n",
    "                   'model__alpha': [0.5, 1.0, 2.0],\n",
    "                   'model__fit_prior': [True, False]},\n",
    "\n",
    "    'Logistic Regression': {'vectorizer__ngram_range': [(1, 1), (1, 2), (1, 3)],\n",
    "                            'vectorizer__max_df': [0.5],\n",
    "                            'model__C': [0.5, 1.0, 2.0],\n",
    "                            'model__penalty': ['l2']},\n",
    "\n",
    "    'XGBoost': {'vectorizer__ngram_range': [(1, 1), (1, 2), (1, 3)],\n",
    "                'vectorizer__max_df': [0.5],\n",
    "                'model__n_estimators': [50, 100, 200],\n",
    "                'model__max_depth': [3, 6, 9],\n",
    "                'model__learning_rate': [0.01, 0.1, 0.2]}\n",
    "}\n"
   ]
  },
  {
   "cell_type": "markdown",
   "id": "7ceb9314",
   "metadata": {},
   "source": [
    "## Application de GridSearchCV :\n",
    "La recherche des meilleurs hyperparamètres est effectuée pour chaque modèle à l'aide de la méthode GridSearchCV.\n",
    "- Évaluation sur l'Ensemble de Validation : Les modèles optimisés sont évalués sur l'ensemble de validation, et les performances (exactitude et rapport de classification) sont affichées.\n",
    "- Évaluation sur l'Ensemble de Test : Les modèles optimisés sont évalués sur l'ensemble de test pour obtenir les performances finales."
   ]
  },
  {
   "cell_type": "code",
   "execution_count": 312,
   "id": "4195d293",
   "metadata": {},
   "outputs": [
    {
     "name": "stdout",
     "output_type": "stream",
     "text": [
      "\n",
      "Best Hyperparameters for Naive Bayes:  {'model__alpha': 0.5, 'model__fit_prior': False, 'vectorizer__max_df': 0.5, 'vectorizer__ngram_range': (1, 2)}\n",
      "Validation Accuracy for Naive Bayes: 0.6260206859009254\n",
      "Classification Report for Naive Bayes:\n",
      "               precision    recall  f1-score   support\n",
      "\n",
      "           0       0.61      0.64      0.63       896\n",
      "           1       0.64      0.61      0.63       941\n",
      "\n",
      "    accuracy                           0.63      1837\n",
      "   macro avg       0.63      0.63      0.63      1837\n",
      "weighted avg       0.63      0.63      0.63      1837\n",
      "\n",
      "\n",
      "Final Test Accuracy for Naive Bayes: 0.7786016949152542\n",
      "Final Test Classification Report for Naive Bayes:\n",
      "               precision    recall  f1-score   support\n",
      "\n",
      "           0       0.78      0.77      0.78       943\n",
      "           1       0.78      0.78      0.78       945\n",
      "\n",
      "    accuracy                           0.78      1888\n",
      "   macro avg       0.78      0.78      0.78      1888\n",
      "weighted avg       0.78      0.78      0.78      1888\n",
      "\n",
      "\n",
      "Best Hyperparameters for Logistic Regression:  {'model__C': 2.0, 'model__penalty': 'l2', 'vectorizer__max_df': 0.5, 'vectorizer__ngram_range': (1, 2)}\n",
      "Validation Accuracy for Logistic Regression: 0.5884594447468698\n",
      "Classification Report for Logistic Regression:\n",
      "               precision    recall  f1-score   support\n",
      "\n",
      "           0       0.58      0.54      0.56       896\n",
      "           1       0.59      0.63      0.61       941\n",
      "\n",
      "    accuracy                           0.59      1837\n",
      "   macro avg       0.59      0.59      0.59      1837\n",
      "weighted avg       0.59      0.59      0.59      1837\n",
      "\n",
      "\n",
      "Final Test Accuracy for Logistic Regression: 0.7611228813559322\n",
      "Final Test Classification Report for Logistic Regression:\n",
      "               precision    recall  f1-score   support\n",
      "\n",
      "           0       0.76      0.76      0.76       943\n",
      "           1       0.76      0.76      0.76       945\n",
      "\n",
      "    accuracy                           0.76      1888\n",
      "   macro avg       0.76      0.76      0.76      1888\n",
      "weighted avg       0.76      0.76      0.76      1888\n",
      "\n"
     ]
    },
    {
     "name": "stderr",
     "output_type": "stream",
     "text": [
      "\n",
      "KeyboardInterrupt\n",
      "\n"
     ]
    }
   ],
   "source": [
    "\n",
    "\n",
    "for model_name in pipelines.keys():\n",
    "    grid_search = GridSearchCV(pipelines[model_name], param_grids[model_name], cv=3, scoring='accuracy')\n",
    "    grid_search.fit(X_train, y_train)\n",
    "\n",
    "    best_params = grid_search.best_params_\n",
    "    best_model = grid_search.best_estimator_\n",
    "\n",
    "\n",
    "    y_val_pred = best_model.predict(X_val)\n",
    "    accuracy = accuracy_score(y_val, y_val_pred)\n",
    "    report = classification_report(y_val, y_val_pred)\n",
    "\n",
    "    print(f\"\\nBest Hyperparameters for {model_name}: \", best_params)\n",
    "    print(f\"Validation Accuracy for {model_name}: {accuracy}\")\n",
    "    print(f\"Classification Report for {model_name}:\\n\", report)\n",
    "\n",
    "\n",
    "    y_test_pred = best_model.predict(X_test)\n",
    "\n",
    "\n",
    "    test_accuracy = accuracy_score(y_test, y_test_pred)\n",
    "    test_report = classification_report(y_test, y_test_pred)\n",
    "\n",
    "    print(\"\\nFinal Test Accuracy for {}: {}\".format(model_name, test_accuracy))\n",
    "    print(\"Final Test Classification Report for {}:\\n\".format(model_name), test_report)\n"
   ]
  },
  {
   "cell_type": "markdown",
   "id": "853a6ff3",
   "metadata": {},
   "source": [
    "\n",
    "# Modèles de Classification de Texte en Utilisant le Deep Learning\n",
    "\n",
    "Dans cette section, nous plongeons dans l'entraînement et l'évaluation de différents modèles de classification de texte en utilisant des approches de deep learning. Ces modèles, construits avec TensorFlow et Keras, sont conçus pour analyser les données textuelles et prédire la polarité des commentaires. Les étapes majeures de cette phase incluent :\n",
    "\n",
    "## 1.Tokenisation et Remplissage :\n",
    "Nous amorçons le processus en tokenisant les données textuelles et en remplissant les séquences à une longueur fixe.\n",
    "Les paramètres tels que le nombre maximal de mots dans le vocabulaire (max_words) et la longueur maximale de chaque séquence (max_len) sont définis"
   ]
  },
  {
   "cell_type": "code",
   "execution_count": null,
   "id": "6f8af6ed",
   "metadata": {},
   "outputs": [],
   "source": [
    "from sklearn.metrics import accuracy_score, classification_report\n",
    "from tensorflow.keras.models import Sequential\n",
    "from tensorflow.keras.layers import Embedding, Conv1D, MaxPooling1D, SimpleRNN, LSTM, Dense, Dropout, Flatten\n",
    "from tensorflow.keras.optimizers import Adam\n",
    "from tensorflow.keras.preprocessing.text import Tokenizer\n",
    "from tensorflow.keras.preprocessing.sequence import pad_sequences\n",
    "\n",
    "# Tokenisation et remplissage des séquences\n",
    "max_words = 3000\n",
    "max_len = 60\n",
    "\n",
    "tokenizer = Tokenizer(num_words=max_words)\n",
    "tokenizer.fit_on_texts(X_train)\n",
    "\n",
    "X_train_seq = tokenizer.texts_to_sequences(X_train)\n",
    "X_val_seq = tokenizer.texts_to_sequences(X_val)\n",
    "X_test_seq = tokenizer.texts_to_sequences(X_test)\n",
    "\n",
    "X_train_pad = pad_sequences(X_train_seq, maxlen=max_len)\n",
    "X_val_pad = pad_sequences(X_val_seq, maxlen=max_len)\n",
    "X_test_pad = pad_sequences(X_test_seq, maxlen=max_len)\n"
   ]
  },
  {
   "cell_type": "markdown",
   "id": "70b7c343",
   "metadata": {},
   "source": [
    "## 2.Entraînement du Modèle :\n",
    "Nous définissons différentes configurations d'hyperparamètres pour les architectures des modèles, les dimensions d'embedding, les taux de dropout, etc.\n",
    "Les modèles sont ensuite entraînés avec ces configurations, explorant notamment les architectures CNN, SimpleRNN, et LSTM.\n",
    "## 3.Évaluation du Modèle\n",
    "Une fois les modèles entraînés, nous les évaluons sur un ensemble de test séparé, calculant la précision ainsi que les rapports de classification."
   ]
  },
  {
   "cell_type": "code",
   "execution_count": 326,
   "id": "323b31f1",
   "metadata": {},
   "outputs": [
    {
     "name": "stdout",
     "output_type": "stream",
     "text": [
      "Epoch 1/5\n",
      "236/236 [==============================] - 7s 17ms/step - loss: 0.6619 - accuracy: 0.6051 - val_loss: 0.6838 - val_accuracy: 0.5852\n",
      "Epoch 2/5\n",
      "236/236 [==============================] - 2s 10ms/step - loss: 0.4702 - accuracy: 0.7754 - val_loss: 0.7359 - val_accuracy: 0.5797\n",
      "Epoch 3/5\n",
      "236/236 [==============================] - 3s 12ms/step - loss: 0.3547 - accuracy: 0.8435 - val_loss: 0.7912 - val_accuracy: 0.5759\n",
      "Epoch 4/5\n",
      "236/236 [==============================] - 3s 11ms/step - loss: 0.2792 - accuracy: 0.8815 - val_loss: 0.8757 - val_accuracy: 0.5787\n",
      "Epoch 5/5\n",
      "236/236 [==============================] - 3s 11ms/step - loss: 0.2106 - accuracy: 0.9154 - val_loss: 1.0323 - val_accuracy: 0.5520\n",
      "59/59 [==============================] - 1s 6ms/step\n",
      "\n",
      "Hyperparameters: {'embedding_dim': 50, 'dropout_rate': 0.2, 'conv_filters': 32, 'kernel_size': 3, 'architecture': 'CNN'}\n",
      "Final Test Accuracy:  0.7108050847457628\n",
      "Final Test Classification Report:\n",
      "               precision    recall  f1-score   support\n",
      "\n",
      "           0       0.72      0.69      0.70       943\n",
      "           1       0.70      0.73      0.72       945\n",
      "\n",
      "    accuracy                           0.71      1888\n",
      "   macro avg       0.71      0.71      0.71      1888\n",
      "weighted avg       0.71      0.71      0.71      1888\n",
      "\n",
      "Epoch 1/5\n",
      "236/236 [==============================] - 15s 47ms/step - loss: 0.6566 - accuracy: 0.6110 - val_loss: 0.6785 - val_accuracy: 0.5716\n",
      "Epoch 2/5\n",
      "236/236 [==============================] - 10s 41ms/step - loss: 0.4945 - accuracy: 0.7721 - val_loss: 0.7580 - val_accuracy: 0.5787\n",
      "Epoch 3/5\n",
      "236/236 [==============================] - 10s 44ms/step - loss: 0.3825 - accuracy: 0.8378 - val_loss: 0.8092 - val_accuracy: 0.5689\n",
      "Epoch 4/5\n",
      "236/236 [==============================] - 12s 49ms/step - loss: 0.2993 - accuracy: 0.8770 - val_loss: 0.9425 - val_accuracy: 0.5618\n",
      "Epoch 5/5\n",
      "236/236 [==============================] - 12s 50ms/step - loss: 0.2503 - accuracy: 0.8990 - val_loss: 0.9997 - val_accuracy: 0.5580\n",
      "59/59 [==============================] - 1s 13ms/step\n",
      "\n",
      "Hyperparameters: {'embedding_dim': 100, 'dropout_rate': 0.3, 'recurrent_units': 16, 'architecture': 'SimpleRNN'}\n",
      "Final Test Accuracy:  0.7277542372881356\n",
      "Final Test Classification Report:\n",
      "               precision    recall  f1-score   support\n",
      "\n",
      "           0       0.73      0.71      0.72       943\n",
      "           1       0.72      0.74      0.73       945\n",
      "\n",
      "    accuracy                           0.73      1888\n",
      "   macro avg       0.73      0.73      0.73      1888\n",
      "weighted avg       0.73      0.73      0.73      1888\n",
      "\n",
      "Epoch 1/5\n",
      "236/236 [==============================] - 16s 55ms/step - loss: 0.6632 - accuracy: 0.6340 - val_loss: 520.6243 - val_accuracy: 0.5656\n",
      "Epoch 2/5\n",
      "236/236 [==============================] - 9s 40ms/step - loss: 1.7950 - accuracy: 0.7430 - val_loss: 43.4074 - val_accuracy: 0.5732\n",
      "Epoch 3/5\n",
      "236/236 [==============================] - 10s 41ms/step - loss: 0.5316 - accuracy: 0.7724 - val_loss: 242.7727 - val_accuracy: 0.5863\n",
      "Epoch 4/5\n",
      "236/236 [==============================] - 10s 43ms/step - loss: 0.4839 - accuracy: 0.7871 - val_loss: 426.8191 - val_accuracy: 0.5852\n",
      "Epoch 5/5\n",
      "236/236 [==============================] - 9s 39ms/step - loss: 0.4494 - accuracy: 0.7985 - val_loss: 614.7535 - val_accuracy: 0.5776\n",
      "59/59 [==============================] - 2s 17ms/step\n",
      "\n",
      "Hyperparameters: {'embedding_dim': 50, 'dropout_rate': 0.3, 'recurrent_units': 16, 'architecture': 'LSTM'}\n",
      "Final Test Accuracy:  0.7309322033898306\n",
      "Final Test Classification Report:\n",
      "               precision    recall  f1-score   support\n",
      "\n",
      "           0       0.71      0.79      0.75       943\n",
      "           1       0.76      0.67      0.71       945\n",
      "\n",
      "    accuracy                           0.73      1888\n",
      "   macro avg       0.73      0.73      0.73      1888\n",
      "weighted avg       0.73      0.73      0.73      1888\n",
      "\n"
     ]
    }
   ],
   "source": [
    "\n",
    "hyperparameter_sets = [\n",
    "    {'embedding_dim': 50, 'dropout_rate': 0.2, 'conv_filters': 32, 'kernel_size': 3, 'architecture': 'CNN'},\n",
    "    {'embedding_dim': 100, 'dropout_rate': 0.3, 'recurrent_units': 16, 'architecture': 'SimpleRNN'},\n",
    "    {'embedding_dim': 50, 'dropout_rate': 0.3, 'recurrent_units': 16, 'architecture': 'LSTM'},\n",
    "]\n",
    "\n",
    "for params in hyperparameter_sets:\n",
    "\n",
    "    model = Sequential()\n",
    "    model.add(Embedding(input_dim=max_words, output_dim=params['embedding_dim'], input_length=max_len))\n",
    "\n",
    "    if params['architecture'] == 'CNN':\n",
    "        model.add(Conv1D(filters=params['conv_filters'], kernel_size=params['kernel_size'], activation='relu'))\n",
    "        model.add(MaxPooling1D())\n",
    "        model.add(Flatten())\n",
    "    elif params['architecture'] == 'SimpleRNN':\n",
    "        model.add(SimpleRNN(params['recurrent_units'], activation='relu'))\n",
    "    elif params['architecture'] == 'LSTM':\n",
    "        model.add(LSTM(params['recurrent_units'], activation='relu'))\n",
    "\n",
    "    model.add(Dropout(params['dropout_rate']))\n",
    "    model.add(Dense(1, activation='sigmoid'))\n",
    "\n",
    "\n",
    "    model.compile(optimizer=Adam(learning_rate=0.001), loss='binary_crossentropy', metrics=['accuracy'])\n",
    "\n",
    "\n",
    "    model.fit(X_train_pad, y_train, epochs=5, batch_size=32, validation_data=(X_val_pad, y_val))\n",
    "\n",
    "\n",
    "    y_test_pred = (model.predict(X_test_pad) > 0.5).astype(int)\n",
    "    test_accuracy = accuracy_score(y_test, y_test_pred)\n",
    "    test_report = classification_report(y_test, y_test_pred)\n",
    "\n",
    "    print(\"\\nHyperparameters:\", params)\n",
    "    print(\"Final Test Accuracy: \", test_accuracy)\n",
    "    print(\"Final Test Classification Report:\\n\", test_report)\n"
   ]
  },
  {
   "cell_type": "markdown",
   "id": "a90c3ab4",
   "metadata": {},
   "source": [
    "# Sélection du Modèle Optimal\n",
    "Après avoir optimisé les hyperparamètres des modèles classiques, nous procédons à la sélection du modèle optimal en utilisant l'ensemble de test. Cette étape est cruciale pour déterminer quel modèle offre la meilleure performance sur des données inconnues."
   ]
  },
  {
   "cell_type": "code",
   "execution_count": 328,
   "id": "c1c44e55",
   "metadata": {},
   "outputs": [
    {
     "name": "stdout",
     "output_type": "stream",
     "text": [
      "Final Test Accuracy:  0.986228813559322\n",
      "Final Test Classification Report:\n",
      "               precision    recall  f1-score   support\n",
      "\n",
      "           0       0.99      0.99      0.99       943\n",
      "           1       0.99      0.99      0.99       945\n",
      "\n",
      "    accuracy                           0.99      1888\n",
      "   macro avg       0.99      0.99      0.99      1888\n",
      "weighted avg       0.99      0.99      0.99      1888\n",
      "\n"
     ]
    }
   ],
   "source": [
    "from sklearn.feature_extraction.text import TfidfVectorizer\n",
    "from sklearn.naive_bayes import MultinomialNB\n",
    "from sklearn.pipeline import Pipeline\n",
    "from sklearn.metrics import accuracy_score, classification_report\n",
    "import joblib\n",
    "\n",
    "\n",
    "X_full = pd.concat([X_train, X_val, X_test], axis=0)\n",
    "y_full = pd.concat([y_train, y_val, y_test], axis=0)\n",
    "\n",
    "\n",
    "final_nb_pipeline = Pipeline([\n",
    "    ('vectorizer', TfidfVectorizer(ngram_range=(1, 2), max_df=0.5)),\n",
    "    ('model', MultinomialNB(alpha=0.5, fit_prior=False))\n",
    "])\n",
    "\n",
    "\n",
    "final_nb_pipeline.fit(X_full, y_full)\n",
    "\n",
    "\n",
    "y_test_pred_final = final_nb_pipeline.predict(X_test)\n",
    "\n",
    "\n",
    "accuracy_test_final = accuracy_score(y_test, y_test_pred_final)\n",
    "report_test_final = classification_report(y_test, y_test_pred_final)\n",
    "\n",
    "print(\"Final Test Accuracy: \", accuracy_test_final)\n",
    "print(\"Final Test Classification Report:\\n\", report_test_final)\n"
   ]
  },
  {
   "cell_type": "code",
   "execution_count": 329,
   "id": "e779284a",
   "metadata": {},
   "outputs": [
    {
     "data": {
      "image/png": "[encoded data removed]",
      "text/plain": [
       "<Figure size 800x600 with 2 Axes>"
      ]
     },
     "metadata": {},
     "output_type": "display_data"
    }
   ],
   "source": [
    "from sklearn.metrics import accuracy_score, classification_report, confusion_matrix\n",
    "import seaborn as sns\n",
    "import matplotlib.pyplot as plt\n",
    "# Create confusion matrix\n",
    "cm = confusion_matrix(y_test, y_test_pred_final)\n",
    "\n",
    "# Visualize confusion matrix\n",
    "plt.figure(figsize=(8, 6))\n",
    "sns.heatmap(cm, annot=True, cmap=\"Blues\", fmt=\"d\")\n",
    "plt.title(\"Confusion Matrix\")\n",
    "plt.xlabel(\"Predicted\")\n",
    "plt.ylabel(\"True\")\n",
    "plt.show()"
   ]
  },
  {
   "cell_type": "markdown",
   "id": "c5252290",
   "metadata": {},
   "source": [
    "# Conclusion et Sauvegarde du Modèle :\n",
    "Pour conclure notre projet d'analyse des sentiments en Darija marocain, nous avons choisi le modèle Naive Bayes comme étant le plus performant après une optimisation minutieuse des hyperparamètres. Ce modèle a démontré une précision élevée et une capacité à bien généraliser sur des données inconnues.\n",
    "\n",
    "## Sauvegarde du Modèle :"
   ]
  },
  {
   "cell_type": "code",
   "execution_count": null,
   "id": "555a6038",
   "metadata": {},
   "outputs": [],
   "source": [
    "from joblib import dump\n",
    "\n",
    "joblib.dump(final_nb_pipeline, 'SAMD.joblib') #enregistement de model sentiment analyst Moroccan darija"
   ]
  },
  {
   "cell_type": "markdown",
   "id": "f171bfc3",
   "metadata": {},
   "source": [
    "Nous avons sauvegardé le modèle final sous le nom \"SAMD.joblib\" pour une utilisation future. Cette sauvegarde permettra de déployer facilement le modèle dans d'autres applications ou de le partager avec d'autres parties prenantes."
   ]
  }
 ],
 "metadata": {
  "kernelspec": {
   "display_name": "Python 3 (ipykernel)",
   "language": "python",
   "name": "python3"
  },
  "language_info": {
   "codemirror_mode": {
    "name": "ipython",
    "version": 3
   },
   "file_extension": ".py",
   "mimetype": "text/x-python",
   "name": "python",
   "nbconvert_exporter": "python",
   "pygments_lexer": "ipython3",
   "version": "3.11.3"
  }
 },
 "nbformat": 4,
 "nbformat_minor": 5
}
